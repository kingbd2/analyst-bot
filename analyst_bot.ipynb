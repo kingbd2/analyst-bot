{
 "cells": [
  {
   "cell_type": "code",
   "execution_count": 1,
   "metadata": {},
   "outputs": [
    {
     "name": "stderr",
     "output_type": "stream",
     "text": [
      "Using TensorFlow backend.\n",
      "/home/bking/anaconda3/lib/python3.6/importlib/_bootstrap.py:219: RuntimeWarning: compiletime version 3.5 of module 'tensorflow.python.framework.fast_tensor_util' does not match runtime version 3.6\n",
      "  return f(*args, **kwds)\n"
     ]
    }
   ],
   "source": [
    "from __future__ import print_function\n",
    "#import Keras library\n",
    "from keras.models import Sequential, Model\n",
    "from keras.layers import Dense, Activation, Dropout\n",
    "from keras.layers import LSTM, Input, Bidirectional\n",
    "from keras.optimizers import Adam\n",
    "from keras.callbacks import EarlyStopping, ModelCheckpoint\n",
    "from keras.metrics import categorical_accuracy\n",
    "\n",
    "#import other libraries\n",
    "import pandas as pd\n",
    "import numpy as np\n",
    "import random\n",
    "import sys\n",
    "import os\n",
    "import time\n",
    "import codecs\n",
    "import collections\n",
    "from six.moves import cPickle\n",
    "\n",
    "#define parameters used in the tutorial\n",
    "#data_dir = 'data/Artistes_et_Phalanges-David_Campion'# data directory containing raw texts\n",
    "save_dir = 'itrg-bot-vocab' # directory to store trained NN models\n",
    "#file_list = [\"101\",\"102\",\"103\",\"104\",\"105\",\"106\",\"107\",\"108\",\"109\",\"110\",\"111\",\"112\",\"201\",\"202\",\"203\",\"204\",\"205\",\"206\",\"207\",\"208\",\"209\",\"210\",\"211\",\"212\",\"213\",\"214\",\"301\",\"302\",\"303\",\"304\",\"305\",\"306\",\"307\",\"308\",\"309\",\"310\",\"311\",\"312\",\"313\",\"314\",\"401\",\"402\",\"403\",\"404\",\"405\",\"406\",\"407\",\"408\",\"409\",\"410\",\"411\",\"412\"]\n",
    "vocab_file = os.path.join(save_dir, \"words_vocab.pkl\")\n",
    "sequences_step = 1 #step to create sequences"
   ]
  },
  {
   "cell_type": "code",
   "execution_count": 2,
   "metadata": {},
   "outputs": [
    {
     "ename": "ModuleNotFoundError",
     "evalue": "No module named 'spacy'",
     "output_type": "error",
     "traceback": [
      "\u001b[0;31m---------------------------------------------------------------------------\u001b[0m",
      "\u001b[0;31mModuleNotFoundError\u001b[0m                       Traceback (most recent call last)",
      "\u001b[0;32m<ipython-input-2-c0e5e6b0b7a7>\u001b[0m in \u001b[0;36m<module>\u001b[0;34m()\u001b[0m\n\u001b[0;32m----> 1\u001b[0;31m \u001b[0;32mimport\u001b[0m \u001b[0mspacy\u001b[0m\u001b[0;34m\u001b[0m\u001b[0m\n\u001b[0m\u001b[1;32m      2\u001b[0m \u001b[0;32mimport\u001b[0m \u001b[0men_core_web_sm\u001b[0m\u001b[0;34m\u001b[0m\u001b[0m\n\u001b[1;32m      3\u001b[0m \u001b[0mnlp\u001b[0m \u001b[0;34m=\u001b[0m \u001b[0men_core_web_sm\u001b[0m\u001b[0;34m.\u001b[0m\u001b[0mload\u001b[0m\u001b[0;34m(\u001b[0m\u001b[0;34m)\u001b[0m\u001b[0;34m\u001b[0m\u001b[0m\n",
      "\u001b[0;31mModuleNotFoundError\u001b[0m: No module named 'spacy'"
     ]
    }
   ],
   "source": [
    "import spacy\n",
    "import en_core_web_sm\n",
    "nlp = en_core_web_sm.load()"
   ]
  },
  {
   "cell_type": "code",
   "execution_count": 3,
   "metadata": {
    "scrolled": true
   },
   "outputs": [
    {
     "ename": "OSError",
     "evalue": "[E050] Can't find model 'en'. It doesn't seem to be a shortcut link, a Python package or a valid path to a data directory.",
     "output_type": "error",
     "traceback": [
      "\u001b[1;31m---------------------------------------------------------------------------\u001b[0m",
      "\u001b[1;31mOSError\u001b[0m                                   Traceback (most recent call last)",
      "\u001b[1;32m<ipython-input-3-c7491efc05db>\u001b[0m in \u001b[0;36m<module>\u001b[1;34m()\u001b[0m\n\u001b[0;32m      3\u001b[0m \u001b[1;31m# Use terminal to download english model for spacy: python -m spacy download en\u001b[0m\u001b[1;33m\u001b[0m\u001b[1;33m\u001b[0m\u001b[0m\n\u001b[0;32m      4\u001b[0m \u001b[1;32mimport\u001b[0m \u001b[0mspacy\u001b[0m\u001b[1;33m\u001b[0m\u001b[0m\n\u001b[1;32m----> 5\u001b[1;33m \u001b[0mnlp\u001b[0m \u001b[1;33m=\u001b[0m \u001b[0mspacy\u001b[0m\u001b[1;33m.\u001b[0m\u001b[0mload\u001b[0m\u001b[1;33m(\u001b[0m\u001b[1;34m'en'\u001b[0m\u001b[1;33m)\u001b[0m\u001b[1;33m\u001b[0m\u001b[0m\n\u001b[0m\u001b[0;32m      6\u001b[0m \u001b[1;33m\u001b[0m\u001b[0m\n\u001b[0;32m      7\u001b[0m \u001b[1;31m# ERROR --> need to link 'en' model\u001b[0m\u001b[1;33m\u001b[0m\u001b[1;33m\u001b[0m\u001b[0m\n",
      "\u001b[1;32m~\\AppData\\Local\\Continuum\\anaconda3\\lib\\site-packages\\spacy\\__init__.py\u001b[0m in \u001b[0;36mload\u001b[1;34m(name, **overrides)\u001b[0m\n\u001b[0;32m     13\u001b[0m     \u001b[1;32mif\u001b[0m \u001b[0mdepr_path\u001b[0m \u001b[1;32mnot\u001b[0m \u001b[1;32min\u001b[0m \u001b[1;33m(\u001b[0m\u001b[1;32mTrue\u001b[0m\u001b[1;33m,\u001b[0m \u001b[1;32mFalse\u001b[0m\u001b[1;33m,\u001b[0m \u001b[1;32mNone\u001b[0m\u001b[1;33m)\u001b[0m\u001b[1;33m:\u001b[0m\u001b[1;33m\u001b[0m\u001b[0m\n\u001b[0;32m     14\u001b[0m         \u001b[0mdeprecation_warning\u001b[0m\u001b[1;33m(\u001b[0m\u001b[0mWarnings\u001b[0m\u001b[1;33m.\u001b[0m\u001b[0mW001\u001b[0m\u001b[1;33m.\u001b[0m\u001b[0mformat\u001b[0m\u001b[1;33m(\u001b[0m\u001b[0mpath\u001b[0m\u001b[1;33m=\u001b[0m\u001b[0mdepr_path\u001b[0m\u001b[1;33m)\u001b[0m\u001b[1;33m)\u001b[0m\u001b[1;33m\u001b[0m\u001b[0m\n\u001b[1;32m---> 15\u001b[1;33m     \u001b[1;32mreturn\u001b[0m \u001b[0mutil\u001b[0m\u001b[1;33m.\u001b[0m\u001b[0mload_model\u001b[0m\u001b[1;33m(\u001b[0m\u001b[0mname\u001b[0m\u001b[1;33m,\u001b[0m \u001b[1;33m**\u001b[0m\u001b[0moverrides\u001b[0m\u001b[1;33m)\u001b[0m\u001b[1;33m\u001b[0m\u001b[0m\n\u001b[0m\u001b[0;32m     16\u001b[0m \u001b[1;33m\u001b[0m\u001b[0m\n\u001b[0;32m     17\u001b[0m \u001b[1;33m\u001b[0m\u001b[0m\n",
      "\u001b[1;32m~\\AppData\\Local\\Continuum\\anaconda3\\lib\\site-packages\\spacy\\util.py\u001b[0m in \u001b[0;36mload_model\u001b[1;34m(name, **overrides)\u001b[0m\n\u001b[0;32m    117\u001b[0m     \u001b[1;32melif\u001b[0m \u001b[0mhasattr\u001b[0m\u001b[1;33m(\u001b[0m\u001b[0mname\u001b[0m\u001b[1;33m,\u001b[0m \u001b[1;34m'exists'\u001b[0m\u001b[1;33m)\u001b[0m\u001b[1;33m:\u001b[0m  \u001b[1;31m# Path or Path-like to model data\u001b[0m\u001b[1;33m\u001b[0m\u001b[0m\n\u001b[0;32m    118\u001b[0m         \u001b[1;32mreturn\u001b[0m \u001b[0mload_model_from_path\u001b[0m\u001b[1;33m(\u001b[0m\u001b[0mname\u001b[0m\u001b[1;33m,\u001b[0m \u001b[1;33m**\u001b[0m\u001b[0moverrides\u001b[0m\u001b[1;33m)\u001b[0m\u001b[1;33m\u001b[0m\u001b[0m\n\u001b[1;32m--> 119\u001b[1;33m     \u001b[1;32mraise\u001b[0m \u001b[0mIOError\u001b[0m\u001b[1;33m(\u001b[0m\u001b[0mErrors\u001b[0m\u001b[1;33m.\u001b[0m\u001b[0mE050\u001b[0m\u001b[1;33m.\u001b[0m\u001b[0mformat\u001b[0m\u001b[1;33m(\u001b[0m\u001b[0mname\u001b[0m\u001b[1;33m=\u001b[0m\u001b[0mname\u001b[0m\u001b[1;33m)\u001b[0m\u001b[1;33m)\u001b[0m\u001b[1;33m\u001b[0m\u001b[0m\n\u001b[0m\u001b[0;32m    120\u001b[0m \u001b[1;33m\u001b[0m\u001b[0m\n\u001b[0;32m    121\u001b[0m \u001b[1;33m\u001b[0m\u001b[0m\n",
      "\u001b[1;31mOSError\u001b[0m: [E050] Can't find model 'en'. It doesn't seem to be a shortcut link, a Python package or a valid path to a data directory."
     ]
    }
   ],
   "source": [
    "#import spacy\n",
    "# spacy is used to work on text\n",
    "# Use terminal to download english model for spacy: python -m spacy download en\n",
    "import spacy\n",
    "nlp = spacy.load('en')\n",
    "\n",
    "# ERROR --> need to link 'en' model"
   ]
  },
  {
   "cell_type": "code",
   "execution_count": 4,
   "metadata": {
    "collapsed": true
   },
   "outputs": [],
   "source": [
    "#Load data\n",
    "data = pd.read_csv('info-tech-quotes-gsheets.csv')"
   ]
  },
  {
   "cell_type": "code",
   "execution_count": 5,
   "metadata": {
    "scrolled": true
   },
   "outputs": [
    {
     "data": {
      "text/html": [
       "<div>\n",
       "<style>\n",
       "    .dataframe thead tr:only-child th {\n",
       "        text-align: right;\n",
       "    }\n",
       "\n",
       "    .dataframe thead th {\n",
       "        text-align: left;\n",
       "    }\n",
       "\n",
       "    .dataframe tbody tr th {\n",
       "        vertical-align: top;\n",
       "    }\n",
       "</style>\n",
       "<table border=\"1\" class=\"dataframe\">\n",
       "  <thead>\n",
       "    <tr style=\"text-align: right;\">\n",
       "      <th></th>\n",
       "      <th>Practice</th>\n",
       "      <th>Analyst</th>\n",
       "      <th>Quote_text</th>\n",
       "    </tr>\n",
       "  </thead>\n",
       "  <tbody>\n",
       "    <tr>\n",
       "      <th>0</th>\n",
       "      <td>Data &amp; BI</td>\n",
       "      <td>Brian King</td>\n",
       "      <td>In the modern world, everything is bigger, fas...</td>\n",
       "    </tr>\n",
       "    <tr>\n",
       "      <th>1</th>\n",
       "      <td>Data &amp; BI</td>\n",
       "      <td>Crystal Singh</td>\n",
       "      <td>Regardless of the driving business strategy or...</td>\n",
       "    </tr>\n",
       "    <tr>\n",
       "      <th>2</th>\n",
       "      <td>Data &amp; BI</td>\n",
       "      <td>Crystal Singh</td>\n",
       "      <td>As business and data landscapes change, an org...</td>\n",
       "    </tr>\n",
       "    <tr>\n",
       "      <th>3</th>\n",
       "      <td>CIO</td>\n",
       "      <td>Andy Liu</td>\n",
       "      <td>IT leaders are powerful advisors who can add t...</td>\n",
       "    </tr>\n",
       "    <tr>\n",
       "      <th>4</th>\n",
       "      <td>CIO</td>\n",
       "      <td>Andy Woyzbun</td>\n",
       "      <td>IBM software licensing agreements put the burd...</td>\n",
       "    </tr>\n",
       "    <tr>\n",
       "      <th>5</th>\n",
       "      <td>App Dev</td>\n",
       "      <td>Cole Cioran</td>\n",
       "      <td>Is regulatory compliance mission critical for ...</td>\n",
       "    </tr>\n",
       "    <tr>\n",
       "      <th>6</th>\n",
       "      <td>Data &amp; BI</td>\n",
       "      <td>Nicholas Lorenzi</td>\n",
       "      <td>After bitcoin’s media frenzy, blockchain is fi...</td>\n",
       "    </tr>\n",
       "    <tr>\n",
       "      <th>7</th>\n",
       "      <td>Security</td>\n",
       "      <td>Wes McPherson</td>\n",
       "      <td>Defining your information security risk tolera...</td>\n",
       "    </tr>\n",
       "    <tr>\n",
       "      <th>8</th>\n",
       "      <td>Security</td>\n",
       "      <td>Celine</td>\n",
       "      <td>Security incidents are going to happen whether...</td>\n",
       "    </tr>\n",
       "    <tr>\n",
       "      <th>9</th>\n",
       "      <td>Security</td>\n",
       "      <td>Ed Gray</td>\n",
       "      <td>A reactive security operations program is no l...</td>\n",
       "    </tr>\n",
       "    <tr>\n",
       "      <th>10</th>\n",
       "      <td>CIO</td>\n",
       "      <td>Michael Blair</td>\n",
       "      <td>Many discussions about prototyping in IT circl...</td>\n",
       "    </tr>\n",
       "    <tr>\n",
       "      <th>11</th>\n",
       "      <td>Infrastructure</td>\n",
       "      <td>Jeremy Roberts</td>\n",
       "      <td>Nobody doubts the cloud’s transformative power...</td>\n",
       "    </tr>\n",
       "    <tr>\n",
       "      <th>12</th>\n",
       "      <td>Vendor</td>\n",
       "      <td>Scott Bickley</td>\n",
       "      <td>Understanding what to look for (and why) in IT...</td>\n",
       "    </tr>\n",
       "    <tr>\n",
       "      <th>13</th>\n",
       "      <td>Infrastructure</td>\n",
       "      <td>Andrew Sharp</td>\n",
       "      <td>Managing a hybrid infrastructure environment i...</td>\n",
       "    </tr>\n",
       "    <tr>\n",
       "      <th>14</th>\n",
       "      <td>PPM</td>\n",
       "      <td>Barry Cousins</td>\n",
       "      <td>For years, the goal of project intake was to s...</td>\n",
       "    </tr>\n",
       "    <tr>\n",
       "      <th>15</th>\n",
       "      <td>Security</td>\n",
       "      <td>Filipe De Souza</td>\n",
       "      <td>Any new project or initiative is judged for th...</td>\n",
       "    </tr>\n",
       "    <tr>\n",
       "      <th>16</th>\n",
       "      <td>CIO</td>\n",
       "      <td>Gopi Bheemavarapu</td>\n",
       "      <td>The traditional approach to infrastructure arc...</td>\n",
       "    </tr>\n",
       "    <tr>\n",
       "      <th>17</th>\n",
       "      <td>Infrastructure</td>\n",
       "      <td>Jeremy Roberts</td>\n",
       "      <td>The vast majority of organizations are experim...</td>\n",
       "    </tr>\n",
       "    <tr>\n",
       "      <th>18</th>\n",
       "      <td>Infrastructure</td>\n",
       "      <td>Ken Weston</td>\n",
       "      <td>Unified endpoint management promises to simpli...</td>\n",
       "    </tr>\n",
       "    <tr>\n",
       "      <th>19</th>\n",
       "      <td>Enterprise Apps</td>\n",
       "      <td>Ben Dickie</td>\n",
       "      <td>Digital transformation is a proven path to ope...</td>\n",
       "    </tr>\n",
       "    <tr>\n",
       "      <th>20</th>\n",
       "      <td>CIO</td>\n",
       "      <td>Dean Walt</td>\n",
       "      <td>While many people are able to secure a budget ...</td>\n",
       "    </tr>\n",
       "    <tr>\n",
       "      <th>21</th>\n",
       "      <td>CIO</td>\n",
       "      <td>Zev Skolnik</td>\n",
       "      <td>Digital and IT have a complicated history, in ...</td>\n",
       "    </tr>\n",
       "    <tr>\n",
       "      <th>22</th>\n",
       "      <td>App Dev</td>\n",
       "      <td>Cole Cioran</td>\n",
       "      <td>The shift from project-centric to product-cent...</td>\n",
       "    </tr>\n",
       "    <tr>\n",
       "      <th>23</th>\n",
       "      <td>Enterprise Apps</td>\n",
       "      <td>Jenna Schroeder</td>\n",
       "      <td>In today’s competitive environment, it is crit...</td>\n",
       "    </tr>\n",
       "    <tr>\n",
       "      <th>24</th>\n",
       "      <td>Data &amp; BI</td>\n",
       "      <td>Steven Wilson</td>\n",
       "      <td>Data integration fails because there is too mu...</td>\n",
       "    </tr>\n",
       "    <tr>\n",
       "      <th>25</th>\n",
       "      <td>Security</td>\n",
       "      <td>Filipe De Souza</td>\n",
       "      <td>While organizations continue to build security...</td>\n",
       "    </tr>\n",
       "    <tr>\n",
       "      <th>26</th>\n",
       "      <td>Security</td>\n",
       "      <td>Céline Gravelines</td>\n",
       "      <td>A policy for policy’s sake is useless if it is...</td>\n",
       "    </tr>\n",
       "    <tr>\n",
       "      <th>27</th>\n",
       "      <td>Infrastructure</td>\n",
       "      <td>Teodora Siman</td>\n",
       "      <td>The lynchpin of an effective DRP resides in se...</td>\n",
       "    </tr>\n",
       "    <tr>\n",
       "      <th>28</th>\n",
       "      <td>cio</td>\n",
       "      <td>Michael Blair</td>\n",
       "      <td>A common misconception about digital transform...</td>\n",
       "    </tr>\n",
       "    <tr>\n",
       "      <th>29</th>\n",
       "      <td>Infrastructure</td>\n",
       "      <td>Sandi Conrad</td>\n",
       "      <td>IT is not the only department to offer support...</td>\n",
       "    </tr>\n",
       "    <tr>\n",
       "      <th>30</th>\n",
       "      <td>Infrastructure</td>\n",
       "      <td>Maggie Hao</td>\n",
       "      <td>Procuring hardware is relatively easy compared...</td>\n",
       "    </tr>\n",
       "    <tr>\n",
       "      <th>31</th>\n",
       "      <td>Data &amp; BI</td>\n",
       "      <td>Crystal Singh</td>\n",
       "      <td>An organization’s data security strategy needs...</td>\n",
       "    </tr>\n",
       "    <tr>\n",
       "      <th>32</th>\n",
       "      <td>Data &amp; BI</td>\n",
       "      <td>Nurith Rochon</td>\n",
       "      <td>At the heart of tomorrow’s insights-driven ent...</td>\n",
       "    </tr>\n",
       "    <tr>\n",
       "      <th>33</th>\n",
       "      <td>CIO</td>\n",
       "      <td>Gopi Bheemavarapu</td>\n",
       "      <td>Architecture groups often start practicing EA ...</td>\n",
       "    </tr>\n",
       "    <tr>\n",
       "      <th>34</th>\n",
       "      <td>CIO</td>\n",
       "      <td>David Glazer</td>\n",
       "      <td>Starting small and then scaling up once you ha...</td>\n",
       "    </tr>\n",
       "    <tr>\n",
       "      <th>35</th>\n",
       "      <td>Enterprise Apps</td>\n",
       "      <td>Ben Dickie</td>\n",
       "      <td>Text messaging services – SMS, WhatsApp, Faceb...</td>\n",
       "    </tr>\n",
       "    <tr>\n",
       "      <th>36</th>\n",
       "      <td>PPM</td>\n",
       "      <td>Trevor Bieber</td>\n",
       "      <td>PPM decision makers lack the dashboards and re...</td>\n",
       "    </tr>\n",
       "    <tr>\n",
       "      <th>37</th>\n",
       "      <td>CIO</td>\n",
       "      <td>Gopi Bheemavarapu</td>\n",
       "      <td>Enterprise architecture is not a technology co...</td>\n",
       "    </tr>\n",
       "    <tr>\n",
       "      <th>38</th>\n",
       "      <td>Data &amp; BI</td>\n",
       "      <td>Daniel Ko</td>\n",
       "      <td>Data warehouse projects are some of the most c...</td>\n",
       "    </tr>\n",
       "    <tr>\n",
       "      <th>39</th>\n",
       "      <td>Data &amp; BI</td>\n",
       "      <td>Steven Wilson</td>\n",
       "      <td>Organizations shy away from MDM because they d...</td>\n",
       "    </tr>\n",
       "    <tr>\n",
       "      <th>40</th>\n",
       "      <td>Data &amp; BI</td>\n",
       "      <td>Daniel Ko</td>\n",
       "      <td>With the ever-quickening speed of business and...</td>\n",
       "    </tr>\n",
       "    <tr>\n",
       "      <th>41</th>\n",
       "      <td>Security</td>\n",
       "      <td>Céline Gravelines</td>\n",
       "      <td>Google’s Eric Schmidt has stated that every tw...</td>\n",
       "    </tr>\n",
       "    <tr>\n",
       "      <th>42</th>\n",
       "      <td>Infrastructure</td>\n",
       "      <td>Suhaib Saleh</td>\n",
       "      <td>The time to implement software-defined infrast...</td>\n",
       "    </tr>\n",
       "    <tr>\n",
       "      <th>43</th>\n",
       "      <td>Data &amp; BI</td>\n",
       "      <td>Steven J. Wilson</td>\n",
       "      <td>Insightful data-focused strategies are driving...</td>\n",
       "    </tr>\n",
       "  </tbody>\n",
       "</table>\n",
       "</div>"
      ],
      "text/plain": [
       "           Practice            Analyst  \\\n",
       "0         Data & BI         Brian King   \n",
       "1         Data & BI      Crystal Singh   \n",
       "2         Data & BI      Crystal Singh   \n",
       "3               CIO           Andy Liu   \n",
       "4               CIO       Andy Woyzbun   \n",
       "5           App Dev        Cole Cioran   \n",
       "6         Data & BI   Nicholas Lorenzi   \n",
       "7          Security      Wes McPherson   \n",
       "8          Security             Celine   \n",
       "9          Security            Ed Gray   \n",
       "10              CIO      Michael Blair   \n",
       "11   Infrastructure     Jeremy Roberts   \n",
       "12           Vendor      Scott Bickley   \n",
       "13   Infrastructure       Andrew Sharp   \n",
       "14              PPM      Barry Cousins   \n",
       "15         Security    Filipe De Souza   \n",
       "16              CIO  Gopi Bheemavarapu   \n",
       "17   Infrastructure     Jeremy Roberts   \n",
       "18   Infrastructure         Ken Weston   \n",
       "19  Enterprise Apps         Ben Dickie   \n",
       "20              CIO          Dean Walt   \n",
       "21              CIO        Zev Skolnik   \n",
       "22          App Dev        Cole Cioran   \n",
       "23  Enterprise Apps    Jenna Schroeder   \n",
       "24        Data & BI      Steven Wilson   \n",
       "25         Security    Filipe De Souza   \n",
       "26         Security  Céline Gravelines   \n",
       "27   Infrastructure      Teodora Siman   \n",
       "28              cio      Michael Blair   \n",
       "29   Infrastructure       Sandi Conrad   \n",
       "30   Infrastructure         Maggie Hao   \n",
       "31        Data & BI      Crystal Singh   \n",
       "32        Data & BI      Nurith Rochon   \n",
       "33              CIO  Gopi Bheemavarapu   \n",
       "34              CIO       David Glazer   \n",
       "35  Enterprise Apps         Ben Dickie   \n",
       "36              PPM      Trevor Bieber   \n",
       "37              CIO  Gopi Bheemavarapu   \n",
       "38        Data & BI          Daniel Ko   \n",
       "39        Data & BI      Steven Wilson   \n",
       "40        Data & BI          Daniel Ko   \n",
       "41         Security  Céline Gravelines   \n",
       "42   Infrastructure       Suhaib Saleh   \n",
       "43        Data & BI   Steven J. Wilson   \n",
       "\n",
       "                                           Quote_text  \n",
       "0   In the modern world, everything is bigger, fas...  \n",
       "1   Regardless of the driving business strategy or...  \n",
       "2   As business and data landscapes change, an org...  \n",
       "3   IT leaders are powerful advisors who can add t...  \n",
       "4   IBM software licensing agreements put the burd...  \n",
       "5   Is regulatory compliance mission critical for ...  \n",
       "6   After bitcoin’s media frenzy, blockchain is fi...  \n",
       "7   Defining your information security risk tolera...  \n",
       "8   Security incidents are going to happen whether...  \n",
       "9   A reactive security operations program is no l...  \n",
       "10  Many discussions about prototyping in IT circl...  \n",
       "11  Nobody doubts the cloud’s transformative power...  \n",
       "12  Understanding what to look for (and why) in IT...  \n",
       "13  Managing a hybrid infrastructure environment i...  \n",
       "14  For years, the goal of project intake was to s...  \n",
       "15  Any new project or initiative is judged for th...  \n",
       "16  The traditional approach to infrastructure arc...  \n",
       "17  The vast majority of organizations are experim...  \n",
       "18  Unified endpoint management promises to simpli...  \n",
       "19  Digital transformation is a proven path to ope...  \n",
       "20  While many people are able to secure a budget ...  \n",
       "21  Digital and IT have a complicated history, in ...  \n",
       "22  The shift from project-centric to product-cent...  \n",
       "23  In today’s competitive environment, it is crit...  \n",
       "24  Data integration fails because there is too mu...  \n",
       "25  While organizations continue to build security...  \n",
       "26  A policy for policy’s sake is useless if it is...  \n",
       "27  The lynchpin of an effective DRP resides in se...  \n",
       "28  A common misconception about digital transform...  \n",
       "29  IT is not the only department to offer support...  \n",
       "30  Procuring hardware is relatively easy compared...  \n",
       "31  An organization’s data security strategy needs...  \n",
       "32  At the heart of tomorrow’s insights-driven ent...  \n",
       "33  Architecture groups often start practicing EA ...  \n",
       "34  Starting small and then scaling up once you ha...  \n",
       "35  Text messaging services – SMS, WhatsApp, Faceb...  \n",
       "36  PPM decision makers lack the dashboards and re...  \n",
       "37  Enterprise architecture is not a technology co...  \n",
       "38  Data warehouse projects are some of the most c...  \n",
       "39  Organizations shy away from MDM because they d...  \n",
       "40  With the ever-quickening speed of business and...  \n",
       "41  Google’s Eric Schmidt has stated that every tw...  \n",
       "42  The time to implement software-defined infrast...  \n",
       "43  Insightful data-focused strategies are driving...  "
      ]
     },
     "execution_count": 5,
     "metadata": {},
     "output_type": "execute_result"
    }
   ],
   "source": [
    "data"
   ]
  },
  {
   "cell_type": "code",
   "execution_count": 6,
   "metadata": {},
   "outputs": [
    {
     "data": {
      "text/plain": [
       "'In the modern world, everything is bigger, faster, and more complex. With big data, you are dealing with all of those challenges at once.\\n This is why you need the right tools for the job. Like a carpenter without a hammer, a Data Scientist or Data Engineer without a comprehensive set of big data tools will be unable to build actionable insights from the raw data materials. \\n With the rapidly changing world of big data solutions, it is hard to know what the right tools for your job are and how to architect them in your environment. By comparing your needs with a repeatable big data tool framework, you can make use of resources that you already have to avoid breaking the bank and get started quickly to get value out of your big data from the very beginning.'"
      ]
     },
     "execution_count": 6,
     "metadata": {},
     "output_type": "execute_result"
    }
   ],
   "source": [
    "data.iloc[0,2]"
   ]
  },
  {
   "cell_type": "code",
   "execution_count": 7,
   "metadata": {
    "collapsed": true
   },
   "outputs": [],
   "source": [
    "#use Spacy library to retrieve the words using its tokenizer, keep them in small letters, and removing all carriage returns (\\n)\n",
    "def create_wordlist(doc):\n",
    "    wl = []\n",
    "    for word in doc:\n",
    "        if word.text not in (\"\\n\",\"\\n\\n\",'\\u2009','\\xa0'):\n",
    "            wl.append(word.text.lower())\n",
    "    return wl"
   ]
  },
  {
   "cell_type": "code",
   "execution_count": 8,
   "metadata": {
    "collapsed": true
   },
   "outputs": [],
   "source": [
    "wordlist = []\n",
    "\n",
    "for quote in data.iloc[:,2]:\n",
    "    #Use when working with files:\n",
    "    #input_file = os.path.join(data_dir, file_name + \".txt\")\n",
    "    #read data\n",
    "    #with codecs.open(input_file, \"r\") as f:\n",
    "    #    data = f.read()\n",
    "        \n",
    "    #create sentences\n",
    "    doc = nlp(quote)\n",
    "    wl = create_wordlist(doc)\n",
    "    wordlist = wordlist + wl"
   ]
  },
  {
   "cell_type": "markdown",
   "metadata": {},
   "source": [
    "Create dictionary"
   ]
  },
  {
   "cell_type": "code",
   "execution_count": 9,
   "metadata": {},
   "outputs": [
    {
     "name": "stdout",
     "output_type": "stream",
     "text": [
      "vocab size:  1413\n"
     ]
    }
   ],
   "source": [
    "# count the number of words\n",
    "word_counts = collections.Counter(wordlist)\n",
    "\n",
    "# Mapping from index to word : that's the vocabulary\n",
    "vocabulary_inv = [x[0] for x in word_counts.most_common()]\n",
    "vocabulary_inv = list(sorted(vocabulary_inv))\n",
    "\n",
    "# Mapping from word to index\n",
    "vocab = {x: i for i, x in enumerate(vocabulary_inv)}\n",
    "words = [x[0] for x in word_counts.most_common()]\n",
    "\n",
    "#size of the vocabulary\n",
    "vocab_size = len(words)\n",
    "print(\"vocab size: \", vocab_size)"
   ]
  },
  {
   "cell_type": "code",
   "execution_count": 10,
   "metadata": {
    "collapsed": true
   },
   "outputs": [],
   "source": [
    "#save the words and vocabulary\n",
    "with open(os.path.join(vocab_file), 'wb') as f:\n",
    "    cPickle.dump((words, vocab, vocabulary_inv), f)"
   ]
  },
  {
   "cell_type": "markdown",
   "metadata": {},
   "source": [
    "Create Sentences List"
   ]
  },
  {
   "cell_type": "code",
   "execution_count": 11,
   "metadata": {},
   "outputs": [
    {
     "name": "stdout",
     "output_type": "stream",
     "text": [
      "nb sequences: 5672\n"
     ]
    }
   ],
   "source": [
    "#create sequences\n",
    "seq_length = 30\n",
    "sequences = []\n",
    "next_words = []\n",
    "for i in range(0, len(wordlist) - seq_length, sequences_step):\n",
    "    sequences.append(wordlist[i: i + seq_length])\n",
    "    next_words.append(wordlist[i + seq_length])\n",
    "\n",
    "print('nb sequences:', len(sequences))"
   ]
  },
  {
   "cell_type": "code",
   "execution_count": 12,
   "metadata": {
    "collapsed": true
   },
   "outputs": [],
   "source": [
    "X = np.zeros((len(sequences), seq_length, vocab_size), dtype=np.bool)\n",
    "y = np.zeros((len(sequences), vocab_size), dtype=np.bool)\n",
    "for i, sentence in enumerate(sequences):\n",
    "    for t, word in enumerate(sentence):\n",
    "        X[i, t, vocab[word]] = 1\n",
    "    y[i, vocab[next_words[i]]] = 1"
   ]
  },
  {
   "cell_type": "markdown",
   "metadata": {},
   "source": [
    "Create the LSTM model"
   ]
  },
  {
   "cell_type": "code",
   "execution_count": 13,
   "metadata": {
    "collapsed": true
   },
   "outputs": [],
   "source": [
    "def bidirectional_lstm_model(seq_length, vocab_size):\n",
    "    print('Build LSTM model.')\n",
    "    model = Sequential()\n",
    "    model.add(Bidirectional(LSTM(rnn_size, activation=\"relu\"),input_shape=(seq_length, vocab_size)))\n",
    "    model.add(Dropout(0.6))\n",
    "    model.add(Dense(vocab_size))\n",
    "    model.add(Activation('softmax'))\n",
    "    \n",
    "    optimizer = Adam(lr=learning_rate)\n",
    "    callbacks=[EarlyStopping(patience=2, monitor='val_loss')]\n",
    "    model.compile(loss='categorical_crossentropy', optimizer=optimizer, metrics=[categorical_accuracy])\n",
    "    print(\"model built!\")\n",
    "    return model"
   ]
  },
  {
   "cell_type": "code",
   "execution_count": 15,
   "metadata": {},
   "outputs": [
    {
     "name": "stdout",
     "output_type": "stream",
     "text": [
      "Build LSTM model.\n",
      "model built!\n",
      "_________________________________________________________________\n",
      "Layer (type)                 Output Shape              Param #   \n",
      "=================================================================\n",
      "bidirectional_2 (Bidirection (None, 512)               3420160   \n",
      "_________________________________________________________________\n",
      "dropout_2 (Dropout)          (None, 512)               0         \n",
      "_________________________________________________________________\n",
      "dense_2 (Dense)              (None, 1413)              724869    \n",
      "_________________________________________________________________\n",
      "activation_2 (Activation)    (None, 1413)              0         \n",
      "=================================================================\n",
      "Total params: 4,145,029\n",
      "Trainable params: 4,145,029\n",
      "Non-trainable params: 0\n",
      "_________________________________________________________________\n"
     ]
    }
   ],
   "source": [
    "rnn_size = 256 # size of RNN\n",
    "seq_length = 30 # sequence length\n",
    "learning_rate = 0.001 #learning rate\n",
    "\n",
    "md = bidirectional_lstm_model(seq_length, vocab_size)\n",
    "md.summary()"
   ]
  },
  {
   "cell_type": "markdown",
   "metadata": {},
   "source": [
    "Train the Model"
   ]
  },
  {
   "cell_type": "code",
   "execution_count": 16,
   "metadata": {},
   "outputs": [
    {
     "name": "stdout",
     "output_type": "stream",
     "text": [
      "Train on 5104 samples, validate on 568 samples\n",
      "Epoch 1/30\n",
      "4640/5104 [==========================>...] - ETA: 499s - loss: 7.2524 - categorical_accuracy: 0.0000e+ - ETA: 306s - loss: 7.2534 - categorical_accuracy: 0.0000e+ - ETA: 238s - loss: 7.2517 - categorical_accuracy: 0.0104   - ETA: 207s - loss: 7.2501 - categorical_accuracy: 0.00 - ETA: 187s - loss: 7.2484 - categorical_accuracy: 0.01 - ETA: 173s - loss: 7.2478 - categorical_accuracy: 0.01 - ETA: 162s - loss: 7.2474 - categorical_accuracy: 0.01 - ETA: 155s - loss: 7.2447 - categorical_accuracy: 0.01 - ETA: 149s - loss: 7.2416 - categorical_accuracy: 0.01 - ETA: 143s - loss: 7.2387 - categorical_accuracy: 0.01 - ETA: 140s - loss: 7.2370 - categorical_accuracy: 0.01 - ETA: 137s - loss: 7.2321 - categorical_accuracy: 0.02 - ETA: 134s - loss: 7.2296 - categorical_accuracy: 0.01 - ETA: 131s - loss: 7.2255 - categorical_accuracy: 0.02 - ETA: 128s - loss: 7.2167 - categorical_accuracy: 0.02 - ETA: 125s - loss: 7.1881 - categorical_accuracy: 0.02 - ETA: 123s - loss: 7.1580 - categorical_accuracy: 0.02 - ETA: 120s - loss: 7.1288 - categorical_accuracy: 0.02 - ETA: 119s - loss: 7.1113 - categorical_accuracy: 0.02 - ETA: 117s - loss: 7.1043 - categorical_accuracy: 0.02 - ETA: 119s - loss: 7.0909 - categorical_accuracy: 0.03 - ETA: 118s - loss: 7.0759 - categorical_accuracy: 0.02 - ETA: 117s - loss: 7.0611 - categorical_accuracy: 0.02 - ETA: 116s - loss: 7.0350 - categorical_accuracy: 0.03 - ETA: 114s - loss: 7.0068 - categorical_accuracy: 0.03 - ETA: 113s - loss: 7.1262 - categorical_accuracy: 0.03 - ETA: 112s - loss: 7.1034 - categorical_accuracy: 0.03 - ETA: 111s - loss: 7.0847 - categorical_accuracy: 0.03 - ETA: 111s - loss: 7.0621 - categorical_accuracy: 0.02 - ETA: 110s - loss: 7.0548 - categorical_accuracy: 0.03 - ETA: 108s - loss: 7.0333 - categorical_accuracy: 0.02 - ETA: 107s - loss: 7.0203 - categorical_accuracy: 0.02 - ETA: 106s - loss: 7.0132 - categorical_accuracy: 0.02 - ETA: 104s - loss: 6.9965 - categorical_accuracy: 0.03 - ETA: 103s - loss: 6.9884 - categorical_accuracy: 0.03 - ETA: 102s - loss: 6.9863 - categorical_accuracy: 0.02 - ETA: 101s - loss: 6.9576 - categorical_accuracy: 0.02 - ETA: 100s - loss: 6.9574 - categorical_accuracy: 0.02 - ETA: 99s - loss: 6.9537 - categorical_accuracy: 0.0296 - ETA: 99s - loss: 6.9378 - categorical_accuracy: 0.030 - ETA: 99s - loss: 6.9249 - categorical_accuracy: 0.031 - ETA: 98s - loss: 6.9103 - categorical_accuracy: 0.032 - ETA: 99s - loss: 6.8992 - categorical_accuracy: 0.032 - ETA: 99s - loss: 6.8874 - categorical_accuracy: 0.032 - ETA: 98s - loss: 6.8856 - categorical_accuracy: 0.032 - ETA: 98s - loss: 6.8749 - categorical_accuracy: 0.032 - ETA: 98s - loss: 6.8696 - categorical_accuracy: 0.031 - ETA: 97s - loss: 6.8642 - categorical_accuracy: 0.031 - ETA: 96s - loss: 6.8573 - categorical_accuracy: 0.030 - ETA: 96s - loss: 6.8457 - categorical_accuracy: 0.031 - ETA: 95s - loss: 6.8346 - categorical_accuracy: 0.030 - ETA: 95s - loss: 6.8251 - categorical_accuracy: 0.030 - ETA: 94s - loss: 6.8172 - categorical_accuracy: 0.030 - ETA: 93s - loss: 6.8084 - categorical_accuracy: 0.030 - ETA: 93s - loss: 6.7961 - categorical_accuracy: 0.031 - ETA: 93s - loss: 6.7804 - categorical_accuracy: 0.031 - ETA: 92s - loss: 6.7678 - categorical_accuracy: 0.032 - ETA: 91s - loss: 6.7498 - categorical_accuracy: 0.032 - ETA: 91s - loss: 6.7417 - categorical_accuracy: 0.032 - ETA: 89s - loss: 6.7399 - categorical_accuracy: 0.032 - ETA: 88s - loss: 6.7253 - categorical_accuracy: 0.033 - ETA: 87s - loss: 6.7214 - categorical_accuracy: 0.033 - ETA: 86s - loss: 6.7148 - categorical_accuracy: 0.033 - ETA: 85s - loss: 6.7105 - categorical_accuracy: 0.032 - ETA: 84s - loss: 6.6999 - categorical_accuracy: 0.033 - ETA: 83s - loss: 6.6971 - categorical_accuracy: 0.033 - ETA: 82s - loss: 6.6914 - categorical_accuracy: 0.032 - ETA: 81s - loss: 6.6844 - categorical_accuracy: 0.033 - ETA: 80s - loss: 6.6797 - categorical_accuracy: 0.033 - ETA: 79s - loss: 6.6652 - categorical_accuracy: 0.033 - ETA: 78s - loss: 6.6478 - categorical_accuracy: 0.032 - ETA: 78s - loss: 6.6377 - categorical_accuracy: 0.032 - ETA: 77s - loss: 6.6273 - categorical_accuracy: 0.032 - ETA: 76s - loss: 6.6200 - categorical_accuracy: 0.033 - ETA: 75s - loss: 6.6115 - categorical_accuracy: 0.033 - ETA: 74s - loss: 6.6076 - categorical_accuracy: 0.033 - ETA: 73s - loss: 6.6090 - categorical_accuracy: 0.033 - ETA: 72s - loss: 6.6052 - categorical_accuracy: 0.033 - ETA: 72s - loss: 6.6018 - categorical_accuracy: 0.033 - ETA: 71s - loss: 6.5918 - categorical_accuracy: 0.034 - ETA: 70s - loss: 6.5865 - categorical_accuracy: 0.034 - ETA: 69s - loss: 6.5777 - categorical_accuracy: 0.035 - ETA: 68s - loss: 6.5699 - categorical_accuracy: 0.035 - ETA: 67s - loss: 6.5648 - categorical_accuracy: 0.035 - ETA: 66s - loss: 6.5534 - categorical_accuracy: 0.034 - ETA: 65s - loss: 6.5502 - categorical_accuracy: 0.034 - ETA: 64s - loss: 6.5511 - categorical_accuracy: 0.034 - ETA: 63s - loss: 6.5453 - categorical_accuracy: 0.034 - ETA: 62s - loss: 6.5305 - categorical_accuracy: 0.035 - ETA: 61s - loss: 6.5248 - categorical_accuracy: 0.035 - ETA: 61s - loss: 6.5223 - categorical_accuracy: 0.035 - ETA: 60s - loss: 6.5219 - categorical_accuracy: 0.035 - ETA: 59s - loss: 6.5189 - categorical_accuracy: 0.035 - ETA: 58s - loss: 6.5160 - categorical_accuracy: 0.035 - ETA: 57s - loss: 6.5164 - categorical_accuracy: 0.034 - ETA: 56s - loss: 6.5168 - categorical_accuracy: 0.035 - ETA: 55s - loss: 6.5108 - categorical_accuracy: 0.035 - ETA: 54s - loss: 6.5121 - categorical_accuracy: 0.035 - ETA: 53s - loss: 6.5123 - categorical_accuracy: 0.035 - ETA: 52s - loss: 6.5037 - categorical_accuracy: 0.035 - ETA: 51s - loss: 6.4991 - categorical_accuracy: 0.034 - ETA: 50s - loss: 6.4919 - categorical_accuracy: 0.034 - ETA: 49s - loss: 6.4921 - categorical_accuracy: 0.034 - ETA: 48s - loss: 6.4869 - categorical_accuracy: 0.034 - ETA: 47s - loss: 6.4908 - categorical_accuracy: 0.034 - ETA: 46s - loss: 6.4899 - categorical_accuracy: 0.034 - ETA: 46s - loss: 6.4865 - categorical_accuracy: 0.033 - ETA: 45s - loss: 6.4794 - categorical_accuracy: 0.034 - ETA: 44s - loss: 6.4831 - categorical_accuracy: 0.033 - ETA: 43s - loss: 6.4779 - categorical_accuracy: 0.034 - ETA: 42s - loss: 6.4751 - categorical_accuracy: 0.033 - ETA: 41s - loss: 6.4719 - categorical_accuracy: 0.034 - ETA: 40s - loss: 6.4687 - categorical_accuracy: 0.033 - ETA: 39s - loss: 6.4697 - categorical_accuracy: 0.033 - ETA: 39s - loss: 6.4703 - categorical_accuracy: 0.033 - ETA: 38s - loss: 6.4720 - categorical_accuracy: 0.033 - ETA: 37s - loss: 6.4668 - categorical_accuracy: 0.033 - ETA: 36s - loss: 6.4622 - categorical_accuracy: 0.033 - ETA: 35s - loss: 6.4542 - categorical_accuracy: 0.033 - ETA: 34s - loss: 6.4508 - categorical_accuracy: 0.033 - ETA: 33s - loss: 6.4477 - categorical_accuracy: 0.033 - ETA: 32s - loss: 6.4427 - categorical_accuracy: 0.033 - ETA: 31s - loss: 6.4404 - categorical_accuracy: 0.033 - ETA: 31s - loss: 6.4425 - categorical_accuracy: 0.033 - ETA: 30s - loss: 6.4423 - categorical_accuracy: 0.033 - ETA: 29s - loss: 6.4433 - categorical_accuracy: 0.033 - ETA: 28s - loss: 6.4403 - categorical_accuracy: 0.033 - ETA: 27s - loss: 6.4383 - categorical_accuracy: 0.033 - ETA: 26s - loss: 6.4380 - categorical_accuracy: 0.032 - ETA: 25s - loss: 6.4372 - categorical_accuracy: 0.032 - ETA: 24s - loss: 6.4366 - categorical_accuracy: 0.032 - ETA: 24s - loss: 6.4370 - categorical_accuracy: 0.032 - ETA: 23s - loss: 6.4357 - categorical_accuracy: 0.032 - ETA: 22s - loss: 6.4325 - categorical_accuracy: 0.033 - ETA: 21s - loss: 6.4321 - categorical_accuracy: 0.033 - ETA: 20s - loss: 6.4352 - categorical_accuracy: 0.033 - ETA: 19s - loss: 6.4390 - categorical_accuracy: 0.032 - ETA: 18s - loss: 6.4358 - categorical_accuracy: 0.033 - ETA: 17s - loss: 6.4348 - categorical_accuracy: 0.033 - ETA: 17s - loss: 6.4300 - categorical_accuracy: 0.033 - ETA: 16s - loss: 6.4295 - categorical_accuracy: 0.033 - ETA: 15s - loss: 6.4231 - categorical_accuracy: 0.034 - ETA: 14s - loss: 6.4198 - categorical_accuracy: 0.034 - ETA: 13s - loss: 6.4169 - categorical_accuracy: 0.034 - ETA: 12s - loss: 6.4163 - categorical_accuracy: 0.0345104/5104 [==============================] - ETA: 11s - loss: 6.4138 - categorical_accuracy: 0.034 - ETA: 10s - loss: 6.4114 - categorical_accuracy: 0.034 - ETA: 10s - loss: 6.4110 - categorical_accuracy: 0.034 - ETA: 9s - loss: 6.4101 - categorical_accuracy: 0.035 - ETA: 8s - loss: 6.4057 - categorical_accuracy: 0.03 - ETA: 7s - loss: 6.4044 - categorical_accuracy: 0.03 - ETA: 6s - loss: 6.4020 - categorical_accuracy: 0.03 - ETA: 5s - loss: 6.3959 - categorical_accuracy: 0.03 - ETA: 4s - loss: 6.3939 - categorical_accuracy: 0.03 - ETA: 3s - loss: 6.3894 - categorical_accuracy: 0.03 - ETA: 3s - loss: 6.3874 - categorical_accuracy: 0.03 - ETA: 2s - loss: 6.3828 - categorical_accuracy: 0.03 - ETA: 1s - loss: 6.3811 - categorical_accuracy: 0.03 - ETA: 0s - loss: 6.3820 - categorical_accuracy: 0.03 - 142s - loss: 6.3799 - categorical_accuracy: 0.0364 - val_loss: 6.2334 - val_categorical_accuracy: 0.0405\n",
      "Epoch 2/30\n"
     ]
    },
    {
     "name": "stdout",
     "output_type": "stream",
     "text": [
      "4672/5104 [==========================>...] - ETA: 116s - loss: 5.5825 - categorical_accuracy: 0.06 - ETA: 131s - loss: 5.5056 - categorical_accuracy: 0.07 - ETA: 134s - loss: 5.6434 - categorical_accuracy: 0.06 - ETA: 131s - loss: 5.6946 - categorical_accuracy: 0.05 - ETA: 128s - loss: 5.9073 - categorical_accuracy: 0.04 - ETA: 125s - loss: 5.9410 - categorical_accuracy: 0.04 - ETA: 124s - loss: 5.9115 - categorical_accuracy: 0.05 - ETA: 121s - loss: 5.8747 - categorical_accuracy: 0.05 - ETA: 118s - loss: 5.8725 - categorical_accuracy: 0.05 - ETA: 116s - loss: 5.8166 - categorical_accuracy: 0.06 - ETA: 114s - loss: 5.8013 - categorical_accuracy: 0.06 - ETA: 112s - loss: 5.8225 - categorical_accuracy: 0.05 - ETA: 110s - loss: 5.8467 - categorical_accuracy: 0.05 - ETA: 110s - loss: 5.8388 - categorical_accuracy: 0.05 - ETA: 108s - loss: 5.8735 - categorical_accuracy: 0.05 - ETA: 107s - loss: 5.8370 - categorical_accuracy: 0.05 - ETA: 106s - loss: 5.8585 - categorical_accuracy: 0.05 - ETA: 105s - loss: 5.8966 - categorical_accuracy: 0.05 - ETA: 104s - loss: 5.8871 - categorical_accuracy: 0.05 - ETA: 103s - loss: 5.8639 - categorical_accuracy: 0.05 - ETA: 102s - loss: 5.8739 - categorical_accuracy: 0.05 - ETA: 101s - loss: 5.8895 - categorical_accuracy: 0.05 - ETA: 101s - loss: 5.8902 - categorical_accuracy: 0.04 - ETA: 100s - loss: 5.8849 - categorical_accuracy: 0.04 - ETA: 100s - loss: 5.8897 - categorical_accuracy: 0.04 - ETA: 99s - loss: 5.9136 - categorical_accuracy: 0.0457 - ETA: 99s - loss: 5.9156 - categorical_accuracy: 0.046 - ETA: 98s - loss: 5.9209 - categorical_accuracy: 0.045 - ETA: 97s - loss: 5.9116 - categorical_accuracy: 0.046 - ETA: 97s - loss: 5.9086 - categorical_accuracy: 0.045 - ETA: 96s - loss: 5.9167 - categorical_accuracy: 0.045 - ETA: 95s - loss: 5.9127 - categorical_accuracy: 0.044 - ETA: 94s - loss: 5.9259 - categorical_accuracy: 0.045 - ETA: 93s - loss: 5.9294 - categorical_accuracy: 0.045 - ETA: 92s - loss: 5.9378 - categorical_accuracy: 0.044 - ETA: 91s - loss: 5.9456 - categorical_accuracy: 0.044 - ETA: 90s - loss: 5.9422 - categorical_accuracy: 0.043 - ETA: 89s - loss: 5.9651 - categorical_accuracy: 0.041 - ETA: 89s - loss: 5.9611 - categorical_accuracy: 0.041 - ETA: 88s - loss: 5.9559 - categorical_accuracy: 0.042 - ETA: 87s - loss: 5.9616 - categorical_accuracy: 0.041 - ETA: 86s - loss: 5.9573 - categorical_accuracy: 0.041 - ETA: 86s - loss: 5.9416 - categorical_accuracy: 0.042 - ETA: 85s - loss: 5.9242 - categorical_accuracy: 0.041 - ETA: 85s - loss: 5.9207 - categorical_accuracy: 0.043 - ETA: 85s - loss: 5.9289 - categorical_accuracy: 0.042 - ETA: 84s - loss: 5.9273 - categorical_accuracy: 0.043 - ETA: 83s - loss: 5.9157 - categorical_accuracy: 0.044 - ETA: 83s - loss: 5.9198 - categorical_accuracy: 0.044 - ETA: 83s - loss: 5.9201 - categorical_accuracy: 0.043 - ETA: 82s - loss: 5.9119 - categorical_accuracy: 0.043 - ETA: 82s - loss: 5.9067 - categorical_accuracy: 0.043 - ETA: 82s - loss: 5.9042 - categorical_accuracy: 0.044 - ETA: 81s - loss: 5.9076 - categorical_accuracy: 0.044 - ETA: 81s - loss: 5.9118 - categorical_accuracy: 0.044 - ETA: 80s - loss: 5.9170 - categorical_accuracy: 0.044 - ETA: 79s - loss: 5.9075 - categorical_accuracy: 0.045 - ETA: 79s - loss: 5.8996 - categorical_accuracy: 0.045 - ETA: 78s - loss: 5.9014 - categorical_accuracy: 0.045 - ETA: 78s - loss: 5.9032 - categorical_accuracy: 0.044 - ETA: 77s - loss: 5.9097 - categorical_accuracy: 0.044 - ETA: 77s - loss: 5.9124 - categorical_accuracy: 0.043 - ETA: 76s - loss: 5.9037 - categorical_accuracy: 0.043 - ETA: 76s - loss: 5.9011 - categorical_accuracy: 0.043 - ETA: 75s - loss: 5.9011 - categorical_accuracy: 0.043 - ETA: 75s - loss: 5.9010 - categorical_accuracy: 0.044 - ETA: 74s - loss: 5.9033 - categorical_accuracy: 0.043 - ETA: 74s - loss: 5.9053 - categorical_accuracy: 0.044 - ETA: 73s - loss: 5.8985 - categorical_accuracy: 0.043 - ETA: 73s - loss: 5.8973 - categorical_accuracy: 0.045 - ETA: 72s - loss: 5.8912 - categorical_accuracy: 0.045 - ETA: 72s - loss: 5.8823 - categorical_accuracy: 0.045 - ETA: 71s - loss: 5.8818 - categorical_accuracy: 0.045 - ETA: 71s - loss: 5.8775 - categorical_accuracy: 0.045 - ETA: 70s - loss: 5.8805 - categorical_accuracy: 0.045 - ETA: 69s - loss: 5.8898 - categorical_accuracy: 0.046 - ETA: 68s - loss: 5.8853 - categorical_accuracy: 0.046 - ETA: 67s - loss: 5.8818 - categorical_accuracy: 0.046 - ETA: 66s - loss: 5.8864 - categorical_accuracy: 0.046 - ETA: 65s - loss: 5.8871 - categorical_accuracy: 0.045 - ETA: 64s - loss: 5.8885 - categorical_accuracy: 0.045 - ETA: 64s - loss: 5.8852 - categorical_accuracy: 0.046 - ETA: 63s - loss: 5.8882 - categorical_accuracy: 0.046 - ETA: 62s - loss: 5.8892 - categorical_accuracy: 0.046 - ETA: 61s - loss: 5.8891 - categorical_accuracy: 0.046 - ETA: 60s - loss: 5.8878 - categorical_accuracy: 0.045 - ETA: 59s - loss: 5.8878 - categorical_accuracy: 0.045 - ETA: 58s - loss: 5.8896 - categorical_accuracy: 0.046 - ETA: 57s - loss: 5.8906 - categorical_accuracy: 0.045 - ETA: 56s - loss: 5.8958 - categorical_accuracy: 0.045 - ETA: 55s - loss: 5.8988 - categorical_accuracy: 0.045 - ETA: 55s - loss: 5.8934 - categorical_accuracy: 0.046 - ETA: 54s - loss: 5.8909 - categorical_accuracy: 0.046 - ETA: 53s - loss: 5.8954 - categorical_accuracy: 0.045 - ETA: 52s - loss: 5.9037 - categorical_accuracy: 0.045 - ETA: 51s - loss: 5.9087 - categorical_accuracy: 0.045 - ETA: 50s - loss: 5.9109 - categorical_accuracy: 0.045 - ETA: 49s - loss: 5.9119 - categorical_accuracy: 0.044 - ETA: 48s - loss: 5.9100 - categorical_accuracy: 0.044 - ETA: 47s - loss: 5.9123 - categorical_accuracy: 0.045 - ETA: 47s - loss: 5.9119 - categorical_accuracy: 0.044 - ETA: 46s - loss: 5.9089 - categorical_accuracy: 0.044 - ETA: 45s - loss: 5.9124 - categorical_accuracy: 0.044 - ETA: 44s - loss: 5.9122 - categorical_accuracy: 0.044 - ETA: 43s - loss: 5.9148 - categorical_accuracy: 0.045 - ETA: 43s - loss: 5.9122 - categorical_accuracy: 0.045 - ETA: 42s - loss: 5.9191 - categorical_accuracy: 0.045 - ETA: 41s - loss: 5.9171 - categorical_accuracy: 0.044 - ETA: 40s - loss: 5.9223 - categorical_accuracy: 0.044 - ETA: 39s - loss: 5.9228 - categorical_accuracy: 0.044 - ETA: 38s - loss: 5.9273 - categorical_accuracy: 0.044 - ETA: 38s - loss: 5.9261 - categorical_accuracy: 0.044 - ETA: 37s - loss: 5.9303 - categorical_accuracy: 0.044 - ETA: 36s - loss: 5.9328 - categorical_accuracy: 0.045 - ETA: 35s - loss: 5.9334 - categorical_accuracy: 0.045 - ETA: 34s - loss: 5.9371 - categorical_accuracy: 0.045 - ETA: 33s - loss: 5.9317 - categorical_accuracy: 0.045 - ETA: 33s - loss: 5.9349 - categorical_accuracy: 0.045 - ETA: 32s - loss: 5.9341 - categorical_accuracy: 0.046 - ETA: 31s - loss: 5.9323 - categorical_accuracy: 0.045 - ETA: 30s - loss: 5.9362 - categorical_accuracy: 0.045 - ETA: 29s - loss: 5.9340 - categorical_accuracy: 0.045 - ETA: 28s - loss: 5.9341 - categorical_accuracy: 0.045 - ETA: 28s - loss: 5.9351 - categorical_accuracy: 0.045 - ETA: 27s - loss: 5.9335 - categorical_accuracy: 0.045 - ETA: 26s - loss: 5.9375 - categorical_accuracy: 0.045 - ETA: 25s - loss: 5.9358 - categorical_accuracy: 0.045 - ETA: 24s - loss: 5.9370 - categorical_accuracy: 0.045 - ETA: 24s - loss: 5.9352 - categorical_accuracy: 0.046 - ETA: 23s - loss: 5.9288 - categorical_accuracy: 0.046 - ETA: 22s - loss: 5.9265 - categorical_accuracy: 0.045 - ETA: 21s - loss: 5.9237 - categorical_accuracy: 0.045 - ETA: 20s - loss: 5.9266 - categorical_accuracy: 0.045 - ETA: 20s - loss: 5.9256 - categorical_accuracy: 0.045 - ETA: 19s - loss: 5.9259 - categorical_accuracy: 0.044 - ETA: 18s - loss: 5.9298 - categorical_accuracy: 0.045 - ETA: 17s - loss: 5.9308 - categorical_accuracy: 0.044 - ETA: 17s - loss: 5.9334 - categorical_accuracy: 0.044 - ETA: 16s - loss: 5.9292 - categorical_accuracy: 0.044 - ETA: 15s - loss: 5.9278 - categorical_accuracy: 0.044 - ETA: 14s - loss: 5.9269 - categorical_accuracy: 0.044 - ETA: 13s - loss: 5.9265 - categorical_accuracy: 0.044 - ETA: 13s - loss: 5.9254 - categorical_accuracy: 0.043 - ETA: 12s - loss: 5.9286 - categorical_accuracy: 0.043 - ETA: 11s - loss: 5.9329 - categorical_accuracy: 0.043 - ETA: 10s - loss: 5.9328 - categorical_accuracy: 0.0428"
     ]
    },
    {
     "name": "stdout",
     "output_type": "stream",
     "text": [
      "5104/5104 [==============================] - ETA: 9s - loss: 5.9377 - categorical_accuracy: 0.042 - ETA: 9s - loss: 5.9399 - categorical_accuracy: 0.04 - ETA: 8s - loss: 5.9387 - categorical_accuracy: 0.04 - ETA: 7s - loss: 5.9404 - categorical_accuracy: 0.04 - ETA: 6s - loss: 5.9431 - categorical_accuracy: 0.04 - ETA: 5s - loss: 5.9456 - categorical_accuracy: 0.04 - ETA: 5s - loss: 5.9481 - categorical_accuracy: 0.04 - ETA: 4s - loss: 5.9498 - categorical_accuracy: 0.04 - ETA: 3s - loss: 5.9541 - categorical_accuracy: 0.04 - ETA: 2s - loss: 5.9552 - categorical_accuracy: 0.04 - ETA: 1s - loss: 5.9571 - categorical_accuracy: 0.04 - ETA: 1s - loss: 5.9540 - categorical_accuracy: 0.04 - ETA: 0s - loss: 5.9527 - categorical_accuracy: 0.04 - 131s - loss: 5.9519 - categorical_accuracy: 0.0419 - val_loss: 6.2999 - val_categorical_accuracy: 0.0370\n",
      "Epoch 3/30\n",
      "4672/5104 [==========================>...] - ETA: 135s - loss: 5.8109 - categorical_accuracy: 0.06 - ETA: 129s - loss: 5.5364 - categorical_accuracy: 0.09 - ETA: 124s - loss: 5.5757 - categorical_accuracy: 0.06 - ETA: 120s - loss: 5.7048 - categorical_accuracy: 0.04 - ETA: 117s - loss: 5.6358 - categorical_accuracy: 0.03 - ETA: 116s - loss: 5.6793 - categorical_accuracy: 0.04 - ETA: 114s - loss: 5.6560 - categorical_accuracy: 0.06 - ETA: 113s - loss: 5.5999 - categorical_accuracy: 0.06 - ETA: 112s - loss: 5.6700 - categorical_accuracy: 0.05 - ETA: 111s - loss: 5.7048 - categorical_accuracy: 0.05 - ETA: 111s - loss: 5.7144 - categorical_accuracy: 0.04 - ETA: 109s - loss: 5.7854 - categorical_accuracy: 0.04 - ETA: 108s - loss: 5.7501 - categorical_accuracy: 0.04 - ETA: 107s - loss: 5.8009 - categorical_accuracy: 0.04 - ETA: 107s - loss: 5.7716 - categorical_accuracy: 0.04 - ETA: 106s - loss: 5.7642 - categorical_accuracy: 0.04 - ETA: 106s - loss: 5.7790 - categorical_accuracy: 0.04 - ETA: 105s - loss: 5.7613 - categorical_accuracy: 0.04 - ETA: 105s - loss: 5.7867 - categorical_accuracy: 0.04 - ETA: 104s - loss: 5.7772 - categorical_accuracy: 0.04 - ETA: 104s - loss: 5.7634 - categorical_accuracy: 0.05 - ETA: 103s - loss: 5.7499 - categorical_accuracy: 0.05 - ETA: 103s - loss: 5.7537 - categorical_accuracy: 0.04 - ETA: 103s - loss: 5.7790 - categorical_accuracy: 0.04 - ETA: 102s - loss: 5.8019 - categorical_accuracy: 0.04 - ETA: 101s - loss: 5.8212 - categorical_accuracy: 0.04 - ETA: 100s - loss: 5.8382 - categorical_accuracy: 0.04 - ETA: 99s - loss: 5.8444 - categorical_accuracy: 0.0424 - ETA: 98s - loss: 5.8336 - categorical_accuracy: 0.045 - ETA: 97s - loss: 5.8344 - categorical_accuracy: 0.043 - ETA: 96s - loss: 5.8505 - categorical_accuracy: 0.043 - ETA: 95s - loss: 5.8675 - categorical_accuracy: 0.043 - ETA: 95s - loss: 5.8858 - categorical_accuracy: 0.041 - ETA: 94s - loss: 5.8705 - categorical_accuracy: 0.040 - ETA: 93s - loss: 5.8863 - categorical_accuracy: 0.040 - ETA: 92s - loss: 5.8979 - categorical_accuracy: 0.039 - ETA: 91s - loss: 5.8915 - categorical_accuracy: 0.040 - ETA: 90s - loss: 5.8895 - categorical_accuracy: 0.042 - ETA: 89s - loss: 5.8745 - categorical_accuracy: 0.042 - ETA: 89s - loss: 5.8843 - categorical_accuracy: 0.042 - ETA: 89s - loss: 5.8900 - categorical_accuracy: 0.042 - ETA: 89s - loss: 5.8894 - categorical_accuracy: 0.043 - ETA: 89s - loss: 5.8935 - categorical_accuracy: 0.042 - ETA: 88s - loss: 5.8993 - categorical_accuracy: 0.042 - ETA: 87s - loss: 5.9008 - categorical_accuracy: 0.041 - ETA: 87s - loss: 5.9030 - categorical_accuracy: 0.041 - ETA: 86s - loss: 5.9012 - categorical_accuracy: 0.041 - ETA: 85s - loss: 5.9010 - categorical_accuracy: 0.041 - ETA: 84s - loss: 5.8964 - categorical_accuracy: 0.041 - ETA: 84s - loss: 5.8929 - categorical_accuracy: 0.041 - ETA: 83s - loss: 5.9112 - categorical_accuracy: 0.041 - ETA: 82s - loss: 5.9103 - categorical_accuracy: 0.043 - ETA: 81s - loss: 5.9171 - categorical_accuracy: 0.043 - ETA: 80s - loss: 5.9113 - categorical_accuracy: 0.042 - ETA: 79s - loss: 5.9073 - categorical_accuracy: 0.043 - ETA: 78s - loss: 5.9069 - categorical_accuracy: 0.043 - ETA: 78s - loss: 5.9062 - categorical_accuracy: 0.042 - ETA: 77s - loss: 5.8993 - categorical_accuracy: 0.042 - ETA: 76s - loss: 5.8970 - categorical_accuracy: 0.042 - ETA: 75s - loss: 5.8900 - categorical_accuracy: 0.041 - ETA: 74s - loss: 5.8903 - categorical_accuracy: 0.041 - ETA: 74s - loss: 5.9091 - categorical_accuracy: 0.040 - ETA: 73s - loss: 5.9005 - categorical_accuracy: 0.042 - ETA: 72s - loss: 5.9016 - categorical_accuracy: 0.042 - ETA: 71s - loss: 5.8952 - categorical_accuracy: 0.042 - ETA: 71s - loss: 5.8988 - categorical_accuracy: 0.042 - ETA: 70s - loss: 5.8996 - categorical_accuracy: 0.042 - ETA: 70s - loss: 5.8933 - categorical_accuracy: 0.042 - ETA: 69s - loss: 5.8884 - categorical_accuracy: 0.042 - ETA: 68s - loss: 5.8879 - categorical_accuracy: 0.042 - ETA: 68s - loss: 5.8844 - categorical_accuracy: 0.041 - ETA: 67s - loss: 5.8816 - categorical_accuracy: 0.041 - ETA: 66s - loss: 5.8793 - categorical_accuracy: 0.040 - ETA: 66s - loss: 5.8824 - categorical_accuracy: 0.040 - ETA: 65s - loss: 5.8788 - categorical_accuracy: 0.040 - ETA: 64s - loss: 5.8821 - categorical_accuracy: 0.039 - ETA: 64s - loss: 5.8848 - categorical_accuracy: 0.039 - ETA: 63s - loss: 5.8832 - categorical_accuracy: 0.038 - ETA: 62s - loss: 5.8863 - categorical_accuracy: 0.039 - ETA: 62s - loss: 5.8850 - categorical_accuracy: 0.039 - ETA: 61s - loss: 5.8872 - categorical_accuracy: 0.039 - ETA: 61s - loss: 5.8860 - categorical_accuracy: 0.039 - ETA: 60s - loss: 5.8816 - categorical_accuracy: 0.039 - ETA: 59s - loss: 5.8740 - categorical_accuracy: 0.039 - ETA: 58s - loss: 5.8773 - categorical_accuracy: 0.039 - ETA: 58s - loss: 5.8753 - categorical_accuracy: 0.039 - ETA: 57s - loss: 5.8761 - categorical_accuracy: 0.039 - ETA: 56s - loss: 5.8784 - categorical_accuracy: 0.039 - ETA: 55s - loss: 5.8745 - categorical_accuracy: 0.039 - ETA: 54s - loss: 5.8741 - categorical_accuracy: 0.039 - ETA: 54s - loss: 5.8714 - categorical_accuracy: 0.039 - ETA: 53s - loss: 5.8740 - categorical_accuracy: 0.039 - ETA: 52s - loss: 5.8767 - categorical_accuracy: 0.039 - ETA: 51s - loss: 5.8766 - categorical_accuracy: 0.038 - ETA: 50s - loss: 5.8822 - categorical_accuracy: 0.038 - ETA: 50s - loss: 5.8806 - categorical_accuracy: 0.038 - ETA: 49s - loss: 5.8782 - categorical_accuracy: 0.038 - ETA: 48s - loss: 5.8765 - categorical_accuracy: 0.037 - ETA: 47s - loss: 5.8699 - categorical_accuracy: 0.038 - ETA: 47s - loss: 5.8710 - categorical_accuracy: 0.038 - ETA: 46s - loss: 5.8722 - categorical_accuracy: 0.038 - ETA: 45s - loss: 5.8693 - categorical_accuracy: 0.038 - ETA: 44s - loss: 5.8697 - categorical_accuracy: 0.037 - ETA: 44s - loss: 5.8679 - categorical_accuracy: 0.037 - ETA: 43s - loss: 5.8607 - categorical_accuracy: 0.037 - ETA: 42s - loss: 5.8638 - categorical_accuracy: 0.038 - ETA: 41s - loss: 5.8713 - categorical_accuracy: 0.038 - ETA: 40s - loss: 5.8759 - categorical_accuracy: 0.038 - ETA: 39s - loss: 5.8789 - categorical_accuracy: 0.038 - ETA: 39s - loss: 5.8835 - categorical_accuracy: 0.038 - ETA: 38s - loss: 5.8828 - categorical_accuracy: 0.038 - ETA: 37s - loss: 5.8856 - categorical_accuracy: 0.038 - ETA: 36s - loss: 5.8904 - categorical_accuracy: 0.038 - ETA: 35s - loss: 5.8917 - categorical_accuracy: 0.038 - ETA: 34s - loss: 5.8898 - categorical_accuracy: 0.038 - ETA: 34s - loss: 5.8907 - categorical_accuracy: 0.038 - ETA: 33s - loss: 5.8910 - categorical_accuracy: 0.039 - ETA: 32s - loss: 5.8907 - categorical_accuracy: 0.039 - ETA: 31s - loss: 5.8866 - categorical_accuracy: 0.040 - ETA: 30s - loss: 5.8855 - categorical_accuracy: 0.040 - ETA: 30s - loss: 5.8877 - categorical_accuracy: 0.040 - ETA: 29s - loss: 5.8917 - categorical_accuracy: 0.040 - ETA: 28s - loss: 5.8898 - categorical_accuracy: 0.039 - ETA: 27s - loss: 5.8925 - categorical_accuracy: 0.039 - ETA: 27s - loss: 5.8958 - categorical_accuracy: 0.039 - ETA: 26s - loss: 5.8975 - categorical_accuracy: 0.039 - ETA: 25s - loss: 5.9002 - categorical_accuracy: 0.038 - ETA: 24s - loss: 5.9022 - categorical_accuracy: 0.038 - ETA: 24s - loss: 5.9006 - categorical_accuracy: 0.038 - ETA: 23s - loss: 5.9015 - categorical_accuracy: 0.038 - ETA: 22s - loss: 5.8989 - categorical_accuracy: 0.038 - ETA: 21s - loss: 5.9001 - categorical_accuracy: 0.038 - ETA: 20s - loss: 5.8979 - categorical_accuracy: 0.038 - ETA: 20s - loss: 5.8962 - categorical_accuracy: 0.038 - ETA: 19s - loss: 5.8960 - categorical_accuracy: 0.038 - ETA: 18s - loss: 5.8947 - categorical_accuracy: 0.038 - ETA: 17s - loss: 5.8965 - categorical_accuracy: 0.038 - ETA: 16s - loss: 5.8931 - categorical_accuracy: 0.038 - ETA: 16s - loss: 5.8934 - categorical_accuracy: 0.038 - ETA: 15s - loss: 5.8873 - categorical_accuracy: 0.037 - ETA: 14s - loss: 5.8854 - categorical_accuracy: 0.038 - ETA: 13s - loss: 5.8866 - categorical_accuracy: 0.038 - ETA: 13s - loss: 5.8883 - categorical_accuracy: 0.038 - ETA: 12s - loss: 5.8839 - categorical_accuracy: 0.038 - ETA: 11s - loss: 5.8868 - categorical_accuracy: 0.038 - ETA: 10s - loss: 5.8854 - categorical_accuracy: 0.03925104/5104 [==============================] - ETA: 9s - loss: 5.8832 - categorical_accuracy: 0.039 - ETA: 9s - loss: 5.8816 - categorical_accuracy: 0.03 - ETA: 8s - loss: 5.8870 - categorical_accuracy: 0.03 - ETA: 7s - loss: 5.8897 - categorical_accuracy: 0.03 - ETA: 6s - loss: 5.8915 - categorical_accuracy: 0.03 - ETA: 5s - loss: 5.8925 - categorical_accuracy: 0.03 - ETA: 5s - loss: 5.8927 - categorical_accuracy: 0.03 - ETA: 4s - loss: 5.8941 - categorical_accuracy: 0.03 - ETA: 3s - loss: 5.8967 - categorical_accuracy: 0.03 - ETA: 2s - loss: 5.8998 - categorical_accuracy: 0.03 - ETA: 1s - loss: 5.9021 - categorical_accuracy: 0.03 - ETA: 1s - loss: 5.9049 - categorical_accuracy: 0.03 - ETA: 0s - loss: 5.9076 - categorical_accuracy: 0.03 - 130s - loss: 5.9089 - categorical_accuracy: 0.0380 - val_loss: 6.3554 - val_categorical_accuracy: 0.0458\n",
      "Epoch 4/30\n"
     ]
    },
    {
     "name": "stdout",
     "output_type": "stream",
     "text": [
      "4672/5104 [==========================>...] - ETA: 106s - loss: 5.5808 - categorical_accuracy: 0.0000e+ - ETA: 106s - loss: 5.7325 - categorical_accuracy: 0.0469   - ETA: 107s - loss: 5.7729 - categorical_accuracy: 0.03 - ETA: 107s - loss: 5.8104 - categorical_accuracy: 0.04 - ETA: 107s - loss: 5.8716 - categorical_accuracy: 0.04 - ETA: 106s - loss: 5.8351 - categorical_accuracy: 0.04 - ETA: 106s - loss: 5.8684 - categorical_accuracy: 0.04 - ETA: 105s - loss: 5.8622 - categorical_accuracy: 0.03 - ETA: 104s - loss: 5.8809 - categorical_accuracy: 0.04 - ETA: 103s - loss: 5.8443 - categorical_accuracy: 0.04 - ETA: 102s - loss: 5.8991 - categorical_accuracy: 0.03 - ETA: 101s - loss: 5.9189 - categorical_accuracy: 0.03 - ETA: 101s - loss: 5.9031 - categorical_accuracy: 0.03 - ETA: 100s - loss: 5.9057 - categorical_accuracy: 0.03 - ETA: 99s - loss: 5.9073 - categorical_accuracy: 0.0396 - ETA: 98s - loss: 5.8676 - categorical_accuracy: 0.041 - ETA: 98s - loss: 5.8405 - categorical_accuracy: 0.038 - ETA: 98s - loss: 5.8779 - categorical_accuracy: 0.036 - ETA: 98s - loss: 5.8651 - categorical_accuracy: 0.037 - ETA: 97s - loss: 5.8703 - categorical_accuracy: 0.039 - ETA: 97s - loss: 5.8640 - categorical_accuracy: 0.037 - ETA: 97s - loss: 5.8407 - categorical_accuracy: 0.044 - ETA: 96s - loss: 5.8408 - categorical_accuracy: 0.043 - ETA: 95s - loss: 5.8489 - categorical_accuracy: 0.045 - ETA: 94s - loss: 5.8480 - categorical_accuracy: 0.046 - ETA: 93s - loss: 5.8492 - categorical_accuracy: 0.048 - ETA: 92s - loss: 5.8610 - categorical_accuracy: 0.049 - ETA: 92s - loss: 5.8314 - categorical_accuracy: 0.050 - ETA: 91s - loss: 5.8179 - categorical_accuracy: 0.048 - ETA: 90s - loss: 5.8155 - categorical_accuracy: 0.052 - ETA: 89s - loss: 5.8061 - categorical_accuracy: 0.053 - ETA: 89s - loss: 5.8017 - categorical_accuracy: 0.052 - ETA: 88s - loss: 5.8078 - categorical_accuracy: 0.052 - ETA: 88s - loss: 5.8073 - categorical_accuracy: 0.051 - ETA: 87s - loss: 5.8172 - categorical_accuracy: 0.050 - ETA: 86s - loss: 5.8126 - categorical_accuracy: 0.050 - ETA: 86s - loss: 5.8016 - categorical_accuracy: 0.050 - ETA: 85s - loss: 5.7973 - categorical_accuracy: 0.051 - ETA: 84s - loss: 5.7895 - categorical_accuracy: 0.052 - ETA: 84s - loss: 5.7766 - categorical_accuracy: 0.053 - ETA: 84s - loss: 5.7787 - categorical_accuracy: 0.051 - ETA: 84s - loss: 5.7722 - categorical_accuracy: 0.051 - ETA: 84s - loss: 5.7647 - categorical_accuracy: 0.050 - ETA: 83s - loss: 5.7698 - categorical_accuracy: 0.049 - ETA: 83s - loss: 5.7737 - categorical_accuracy: 0.048 - ETA: 82s - loss: 5.7794 - categorical_accuracy: 0.048 - ETA: 81s - loss: 5.7776 - categorical_accuracy: 0.048 - ETA: 80s - loss: 5.7838 - categorical_accuracy: 0.048 - ETA: 80s - loss: 5.7864 - categorical_accuracy: 0.048 - ETA: 79s - loss: 5.7868 - categorical_accuracy: 0.048 - ETA: 78s - loss: 5.7859 - categorical_accuracy: 0.047 - ETA: 77s - loss: 5.7822 - categorical_accuracy: 0.046 - ETA: 77s - loss: 5.7848 - categorical_accuracy: 0.046 - ETA: 76s - loss: 5.7834 - categorical_accuracy: 0.046 - ETA: 75s - loss: 5.7883 - categorical_accuracy: 0.045 - ETA: 74s - loss: 5.7890 - categorical_accuracy: 0.044 - ETA: 74s - loss: 5.7909 - categorical_accuracy: 0.043 - ETA: 73s - loss: 5.7851 - categorical_accuracy: 0.043 - ETA: 72s - loss: 5.7841 - categorical_accuracy: 0.042 - ETA: 72s - loss: 5.7773 - categorical_accuracy: 0.044 - ETA: 71s - loss: 5.7870 - categorical_accuracy: 0.044 - ETA: 71s - loss: 5.7922 - categorical_accuracy: 0.043 - ETA: 70s - loss: 5.7978 - categorical_accuracy: 0.043 - ETA: 70s - loss: 5.8025 - categorical_accuracy: 0.042 - ETA: 69s - loss: 5.7993 - categorical_accuracy: 0.042 - ETA: 68s - loss: 5.7963 - categorical_accuracy: 0.042 - ETA: 67s - loss: 5.7936 - categorical_accuracy: 0.042 - ETA: 67s - loss: 5.7940 - categorical_accuracy: 0.041 - ETA: 66s - loss: 5.7938 - categorical_accuracy: 0.041 - ETA: 65s - loss: 5.7883 - categorical_accuracy: 0.042 - ETA: 64s - loss: 5.7955 - categorical_accuracy: 0.042 - ETA: 63s - loss: 5.8011 - categorical_accuracy: 0.042 - ETA: 63s - loss: 5.8046 - categorical_accuracy: 0.042 - ETA: 62s - loss: 5.8133 - categorical_accuracy: 0.041 - ETA: 61s - loss: 5.8175 - categorical_accuracy: 0.041 - ETA: 60s - loss: 5.8193 - categorical_accuracy: 0.041 - ETA: 60s - loss: 5.8200 - categorical_accuracy: 0.041 - ETA: 59s - loss: 5.8324 - categorical_accuracy: 0.040 - ETA: 58s - loss: 5.8390 - categorical_accuracy: 0.040 - ETA: 57s - loss: 5.8337 - categorical_accuracy: 0.041 - ETA: 56s - loss: 5.8373 - categorical_accuracy: 0.041 - ETA: 56s - loss: 5.8409 - categorical_accuracy: 0.041 - ETA: 55s - loss: 5.8431 - categorical_accuracy: 0.041 - ETA: 54s - loss: 5.8405 - categorical_accuracy: 0.041 - ETA: 54s - loss: 5.8427 - categorical_accuracy: 0.041 - ETA: 53s - loss: 5.8442 - categorical_accuracy: 0.041 - ETA: 52s - loss: 5.8394 - categorical_accuracy: 0.041 - ETA: 51s - loss: 5.8376 - categorical_accuracy: 0.041 - ETA: 51s - loss: 5.8388 - categorical_accuracy: 0.040 - ETA: 50s - loss: 5.8386 - categorical_accuracy: 0.040 - ETA: 49s - loss: 5.8312 - categorical_accuracy: 0.040 - ETA: 48s - loss: 5.8292 - categorical_accuracy: 0.040 - ETA: 48s - loss: 5.8279 - categorical_accuracy: 0.040 - ETA: 47s - loss: 5.8295 - categorical_accuracy: 0.041 - ETA: 46s - loss: 5.8347 - categorical_accuracy: 0.041 - ETA: 45s - loss: 5.8341 - categorical_accuracy: 0.041 - ETA: 45s - loss: 5.8322 - categorical_accuracy: 0.040 - ETA: 44s - loss: 5.8298 - categorical_accuracy: 0.041 - ETA: 43s - loss: 5.8330 - categorical_accuracy: 0.042 - ETA: 42s - loss: 5.8309 - categorical_accuracy: 0.042 - ETA: 42s - loss: 5.8363 - categorical_accuracy: 0.042 - ETA: 41s - loss: 5.8435 - categorical_accuracy: 0.042 - ETA: 40s - loss: 5.8427 - categorical_accuracy: 0.042 - ETA: 40s - loss: 5.8403 - categorical_accuracy: 0.041 - ETA: 39s - loss: 5.8374 - categorical_accuracy: 0.042 - ETA: 38s - loss: 5.8378 - categorical_accuracy: 0.041 - ETA: 38s - loss: 5.8345 - categorical_accuracy: 0.042 - ETA: 37s - loss: 5.8339 - categorical_accuracy: 0.042 - ETA: 36s - loss: 5.8295 - categorical_accuracy: 0.043 - ETA: 35s - loss: 5.8322 - categorical_accuracy: 0.042 - ETA: 35s - loss: 5.8352 - categorical_accuracy: 0.043 - ETA: 34s - loss: 5.8341 - categorical_accuracy: 0.043 - ETA: 33s - loss: 5.8385 - categorical_accuracy: 0.043 - ETA: 32s - loss: 5.8384 - categorical_accuracy: 0.043 - ETA: 32s - loss: 5.8356 - categorical_accuracy: 0.043 - ETA: 31s - loss: 5.8393 - categorical_accuracy: 0.043 - ETA: 30s - loss: 5.8392 - categorical_accuracy: 0.043 - ETA: 30s - loss: 5.8432 - categorical_accuracy: 0.043 - ETA: 29s - loss: 5.8426 - categorical_accuracy: 0.043 - ETA: 28s - loss: 5.8452 - categorical_accuracy: 0.043 - ETA: 27s - loss: 5.8488 - categorical_accuracy: 0.043 - ETA: 27s - loss: 5.8504 - categorical_accuracy: 0.043 - ETA: 26s - loss: 5.8515 - categorical_accuracy: 0.043 - ETA: 25s - loss: 5.8523 - categorical_accuracy: 0.043 - ETA: 24s - loss: 5.8518 - categorical_accuracy: 0.043 - ETA: 24s - loss: 5.8520 - categorical_accuracy: 0.042 - ETA: 23s - loss: 5.8529 - categorical_accuracy: 0.042 - ETA: 22s - loss: 5.8502 - categorical_accuracy: 0.043 - ETA: 22s - loss: 5.8496 - categorical_accuracy: 0.043 - ETA: 21s - loss: 5.8527 - categorical_accuracy: 0.043 - ETA: 20s - loss: 5.8505 - categorical_accuracy: 0.043 - ETA: 19s - loss: 5.8497 - categorical_accuracy: 0.043 - ETA: 19s - loss: 5.8504 - categorical_accuracy: 0.043 - ETA: 18s - loss: 5.8527 - categorical_accuracy: 0.044 - ETA: 17s - loss: 5.8526 - categorical_accuracy: 0.044 - ETA: 16s - loss: 5.8550 - categorical_accuracy: 0.044 - ETA: 16s - loss: 5.8544 - categorical_accuracy: 0.044 - ETA: 15s - loss: 5.8483 - categorical_accuracy: 0.044 - ETA: 14s - loss: 5.8495 - categorical_accuracy: 0.044 - ETA: 14s - loss: 5.8475 - categorical_accuracy: 0.044 - ETA: 13s - loss: 5.8480 - categorical_accuracy: 0.043 - ETA: 12s - loss: 5.8466 - categorical_accuracy: 0.044 - ETA: 11s - loss: 5.8489 - categorical_accuracy: 0.043 - ETA: 11s - loss: 5.8495 - categorical_accuracy: 0.043 - ETA: 10s - loss: 5.8482 - categorical_accuracy: 0.043 - ETA: 9s - loss: 5.8485 - categorical_accuracy: 0.0435 "
     ]
    },
    {
     "name": "stdout",
     "output_type": "stream",
     "text": [
      "5104/5104 [==============================] - ETA: 8s - loss: 5.8495 - categorical_accuracy: 0.04 - ETA: 8s - loss: 5.8497 - categorical_accuracy: 0.04 - ETA: 7s - loss: 5.8581 - categorical_accuracy: 0.04 - ETA: 6s - loss: 5.8593 - categorical_accuracy: 0.04 - ETA: 6s - loss: 5.8593 - categorical_accuracy: 0.04 - ETA: 5s - loss: 5.8622 - categorical_accuracy: 0.04 - ETA: 4s - loss: 5.8606 - categorical_accuracy: 0.04 - ETA: 3s - loss: 5.8619 - categorical_accuracy: 0.04 - ETA: 3s - loss: 5.8624 - categorical_accuracy: 0.04 - ETA: 2s - loss: 5.8650 - categorical_accuracy: 0.04 - ETA: 1s - loss: 5.8649 - categorical_accuracy: 0.04 - ETA: 1s - loss: 5.8639 - categorical_accuracy: 0.04 - ETA: 0s - loss: 5.8627 - categorical_accuracy: 0.04 - 119s - loss: 5.8625 - categorical_accuracy: 0.0423 - val_loss: 6.4294 - val_categorical_accuracy: 0.0405\n",
      "Epoch 5/30\n",
      "4672/5104 [==========================>...] - ETA: 107s - loss: 5.8649 - categorical_accuracy: 0.12 - ETA: 107s - loss: 5.6525 - categorical_accuracy: 0.09 - ETA: 105s - loss: 5.6830 - categorical_accuracy: 0.10 - ETA: 104s - loss: 5.6431 - categorical_accuracy: 0.07 - ETA: 103s - loss: 5.7104 - categorical_accuracy: 0.07 - ETA: 103s - loss: 5.7319 - categorical_accuracy: 0.07 - ETA: 104s - loss: 5.7136 - categorical_accuracy: 0.07 - ETA: 105s - loss: 5.7412 - categorical_accuracy: 0.07 - ETA: 105s - loss: 5.6413 - categorical_accuracy: 0.07 - ETA: 104s - loss: 5.6642 - categorical_accuracy: 0.07 - ETA: 104s - loss: 5.6533 - categorical_accuracy: 0.07 - ETA: 103s - loss: 5.6817 - categorical_accuracy: 0.06 - ETA: 102s - loss: 5.6683 - categorical_accuracy: 0.06 - ETA: 101s - loss: 5.7051 - categorical_accuracy: 0.06 - ETA: 100s - loss: 5.7001 - categorical_accuracy: 0.05 - ETA: 102s - loss: 5.6861 - categorical_accuracy: 0.06 - ETA: 103s - loss: 5.7011 - categorical_accuracy: 0.05 - ETA: 102s - loss: 5.7378 - categorical_accuracy: 0.05 - ETA: 101s - loss: 5.7486 - categorical_accuracy: 0.05 - ETA: 101s - loss: 5.7466 - categorical_accuracy: 0.05 - ETA: 100s - loss: 5.7701 - categorical_accuracy: 0.05 - ETA: 100s - loss: 5.7701 - categorical_accuracy: 0.05 - ETA: 100s - loss: 5.7760 - categorical_accuracy: 0.05 - ETA: 99s - loss: 5.7636 - categorical_accuracy: 0.0521 - ETA: 98s - loss: 5.7457 - categorical_accuracy: 0.051 - ETA: 98s - loss: 5.7453 - categorical_accuracy: 0.050 - ETA: 97s - loss: 5.7537 - categorical_accuracy: 0.048 - ETA: 97s - loss: 5.7630 - categorical_accuracy: 0.049 - ETA: 96s - loss: 5.7674 - categorical_accuracy: 0.049 - ETA: 95s - loss: 5.7597 - categorical_accuracy: 0.047 - ETA: 95s - loss: 5.7722 - categorical_accuracy: 0.049 - ETA: 94s - loss: 5.7769 - categorical_accuracy: 0.048 - ETA: 94s - loss: 5.7630 - categorical_accuracy: 0.048 - ETA: 93s - loss: 5.7503 - categorical_accuracy: 0.049 - ETA: 92s - loss: 5.7460 - categorical_accuracy: 0.049 - ETA: 91s - loss: 5.7494 - categorical_accuracy: 0.048 - ETA: 90s - loss: 5.7622 - categorical_accuracy: 0.047 - ETA: 89s - loss: 5.7627 - categorical_accuracy: 0.046 - ETA: 88s - loss: 5.7637 - categorical_accuracy: 0.045 - ETA: 87s - loss: 5.7602 - categorical_accuracy: 0.046 - ETA: 87s - loss: 5.7587 - categorical_accuracy: 0.049 - ETA: 86s - loss: 5.7545 - categorical_accuracy: 0.049 - ETA: 85s - loss: 5.7602 - categorical_accuracy: 0.049 - ETA: 84s - loss: 5.7636 - categorical_accuracy: 0.049 - ETA: 83s - loss: 5.7671 - categorical_accuracy: 0.049 - ETA: 82s - loss: 5.7710 - categorical_accuracy: 0.049 - ETA: 82s - loss: 5.7672 - categorical_accuracy: 0.049 - ETA: 81s - loss: 5.7643 - categorical_accuracy: 0.048 - ETA: 80s - loss: 5.7609 - categorical_accuracy: 0.048 - ETA: 79s - loss: 5.7704 - categorical_accuracy: 0.047 - ETA: 79s - loss: 5.7677 - categorical_accuracy: 0.047 - ETA: 78s - loss: 5.7627 - categorical_accuracy: 0.047 - ETA: 77s - loss: 5.7492 - categorical_accuracy: 0.047 - ETA: 76s - loss: 5.7413 - categorical_accuracy: 0.046 - ETA: 76s - loss: 5.7372 - categorical_accuracy: 0.046 - ETA: 75s - loss: 5.7424 - categorical_accuracy: 0.046 - ETA: 74s - loss: 5.7384 - categorical_accuracy: 0.045 - ETA: 73s - loss: 5.7392 - categorical_accuracy: 0.044 - ETA: 73s - loss: 5.7405 - categorical_accuracy: 0.045 - ETA: 72s - loss: 5.7356 - categorical_accuracy: 0.044 - ETA: 71s - loss: 5.7261 - categorical_accuracy: 0.044 - ETA: 70s - loss: 5.7288 - categorical_accuracy: 0.044 - ETA: 69s - loss: 5.7299 - categorical_accuracy: 0.044 - ETA: 69s - loss: 5.7341 - categorical_accuracy: 0.044 - ETA: 68s - loss: 5.7420 - categorical_accuracy: 0.044 - ETA: 67s - loss: 5.7411 - categorical_accuracy: 0.044 - ETA: 66s - loss: 5.7439 - categorical_accuracy: 0.044 - ETA: 66s - loss: 5.7540 - categorical_accuracy: 0.044 - ETA: 65s - loss: 5.7473 - categorical_accuracy: 0.044 - ETA: 64s - loss: 5.7529 - categorical_accuracy: 0.044 - ETA: 63s - loss: 5.7480 - categorical_accuracy: 0.045 - ETA: 62s - loss: 5.7506 - categorical_accuracy: 0.045 - ETA: 62s - loss: 5.7519 - categorical_accuracy: 0.044 - ETA: 61s - loss: 5.7565 - categorical_accuracy: 0.045 - ETA: 60s - loss: 5.7537 - categorical_accuracy: 0.045 - ETA: 60s - loss: 5.7528 - categorical_accuracy: 0.045 - ETA: 59s - loss: 5.7483 - categorical_accuracy: 0.045 - ETA: 58s - loss: 5.7540 - categorical_accuracy: 0.046 - ETA: 58s - loss: 5.7609 - categorical_accuracy: 0.046 - ETA: 57s - loss: 5.7690 - categorical_accuracy: 0.046 - ETA: 56s - loss: 5.7780 - categorical_accuracy: 0.045 - ETA: 55s - loss: 5.7751 - categorical_accuracy: 0.045 - ETA: 55s - loss: 5.7780 - categorical_accuracy: 0.045 - ETA: 54s - loss: 5.7730 - categorical_accuracy: 0.045 - ETA: 53s - loss: 5.7750 - categorical_accuracy: 0.045 - ETA: 52s - loss: 5.7763 - categorical_accuracy: 0.046 - ETA: 52s - loss: 5.7757 - categorical_accuracy: 0.046 - ETA: 51s - loss: 5.7755 - categorical_accuracy: 0.046 - ETA: 50s - loss: 5.7757 - categorical_accuracy: 0.046 - ETA: 50s - loss: 5.7775 - categorical_accuracy: 0.046 - ETA: 49s - loss: 5.7787 - categorical_accuracy: 0.046 - ETA: 48s - loss: 5.7848 - categorical_accuracy: 0.045 - ETA: 47s - loss: 5.7846 - categorical_accuracy: 0.045 - ETA: 47s - loss: 5.7877 - categorical_accuracy: 0.045 - ETA: 46s - loss: 5.7875 - categorical_accuracy: 0.045 - ETA: 45s - loss: 5.7886 - categorical_accuracy: 0.044 - ETA: 45s - loss: 5.7888 - categorical_accuracy: 0.044 - ETA: 44s - loss: 5.7944 - categorical_accuracy: 0.045 - ETA: 43s - loss: 5.7940 - categorical_accuracy: 0.044 - ETA: 43s - loss: 5.7945 - categorical_accuracy: 0.045 - ETA: 42s - loss: 5.7956 - categorical_accuracy: 0.044 - ETA: 41s - loss: 5.7976 - categorical_accuracy: 0.044 - ETA: 40s - loss: 5.7969 - categorical_accuracy: 0.045 - ETA: 40s - loss: 5.7985 - categorical_accuracy: 0.046 - ETA: 39s - loss: 5.7997 - categorical_accuracy: 0.046 - ETA: 38s - loss: 5.8026 - categorical_accuracy: 0.046 - ETA: 37s - loss: 5.8036 - categorical_accuracy: 0.045 - ETA: 37s - loss: 5.8034 - categorical_accuracy: 0.046 - ETA: 36s - loss: 5.7962 - categorical_accuracy: 0.046 - ETA: 35s - loss: 5.7982 - categorical_accuracy: 0.046 - ETA: 34s - loss: 5.7979 - categorical_accuracy: 0.046 - ETA: 34s - loss: 5.7978 - categorical_accuracy: 0.046 - ETA: 33s - loss: 5.8003 - categorical_accuracy: 0.046 - ETA: 32s - loss: 5.8015 - categorical_accuracy: 0.046 - ETA: 32s - loss: 5.7991 - categorical_accuracy: 0.046 - ETA: 31s - loss: 5.7968 - categorical_accuracy: 0.047 - ETA: 30s - loss: 5.8008 - categorical_accuracy: 0.046 - ETA: 29s - loss: 5.8061 - categorical_accuracy: 0.046 - ETA: 29s - loss: 5.8052 - categorical_accuracy: 0.046 - ETA: 28s - loss: 5.8031 - categorical_accuracy: 0.046 - ETA: 27s - loss: 5.8018 - categorical_accuracy: 0.046 - ETA: 27s - loss: 5.8017 - categorical_accuracy: 0.047 - ETA: 26s - loss: 5.7982 - categorical_accuracy: 0.047 - ETA: 25s - loss: 5.7933 - categorical_accuracy: 0.047 - ETA: 24s - loss: 5.7952 - categorical_accuracy: 0.047 - ETA: 24s - loss: 5.7950 - categorical_accuracy: 0.047 - ETA: 23s - loss: 5.7930 - categorical_accuracy: 0.047 - ETA: 22s - loss: 5.7958 - categorical_accuracy: 0.047 - ETA: 22s - loss: 5.7921 - categorical_accuracy: 0.047 - ETA: 21s - loss: 5.7916 - categorical_accuracy: 0.047 - ETA: 20s - loss: 5.7918 - categorical_accuracy: 0.047 - ETA: 19s - loss: 5.7922 - categorical_accuracy: 0.047 - ETA: 19s - loss: 5.7959 - categorical_accuracy: 0.047 - ETA: 18s - loss: 5.7970 - categorical_accuracy: 0.047 - ETA: 17s - loss: 5.7929 - categorical_accuracy: 0.047 - ETA: 16s - loss: 5.7952 - categorical_accuracy: 0.047 - ETA: 16s - loss: 5.7938 - categorical_accuracy: 0.047 - ETA: 15s - loss: 5.7979 - categorical_accuracy: 0.046 - ETA: 14s - loss: 5.7983 - categorical_accuracy: 0.046 - ETA: 14s - loss: 5.8000 - categorical_accuracy: 0.047 - ETA: 13s - loss: 5.8006 - categorical_accuracy: 0.046 - ETA: 12s - loss: 5.8013 - categorical_accuracy: 0.046 - ETA: 11s - loss: 5.7989 - categorical_accuracy: 0.047 - ETA: 11s - loss: 5.7953 - categorical_accuracy: 0.047 - ETA: 10s - loss: 5.7948 - categorical_accuracy: 0.047 - ETA: 9s - loss: 5.7889 - categorical_accuracy: 0.0477 5104/5104 [==============================] - ETA: 9s - loss: 5.7885 - categorical_accuracy: 0.04 - ETA: 8s - loss: 5.7864 - categorical_accuracy: 0.04 - ETA: 7s - loss: 5.7846 - categorical_accuracy: 0.04 - ETA: 6s - loss: 5.7885 - categorical_accuracy: 0.04 - ETA: 6s - loss: 5.7929 - categorical_accuracy: 0.04 - ETA: 5s - loss: 5.7927 - categorical_accuracy: 0.04 - ETA: 4s - loss: 5.7959 - categorical_accuracy: 0.04 - ETA: 4s - loss: 5.7967 - categorical_accuracy: 0.04 - ETA: 3s - loss: 5.7978 - categorical_accuracy: 0.04 - ETA: 2s - loss: 5.7973 - categorical_accuracy: 0.04 - ETA: 1s - loss: 5.7984 - categorical_accuracy: 0.04 - ETA: 1s - loss: 5.7987 - categorical_accuracy: 0.04 - ETA: 0s - loss: 5.7978 - categorical_accuracy: 0.04 - 121s - loss: 5.7959 - categorical_accuracy: 0.0482 - val_loss: 6.4586 - val_categorical_accuracy: 0.0669\n",
      "Epoch 6/30\n"
     ]
    },
    {
     "name": "stdout",
     "output_type": "stream",
     "text": [
      "4672/5104 [==========================>...] - ETA: 120s - loss: 5.7976 - categorical_accuracy: 0.03 - ETA: 120s - loss: 5.7120 - categorical_accuracy: 0.03 - ETA: 125s - loss: 5.7082 - categorical_accuracy: 0.04 - ETA: 125s - loss: 5.5791 - categorical_accuracy: 0.04 - ETA: 128s - loss: 5.6021 - categorical_accuracy: 0.05 - ETA: 129s - loss: 5.6834 - categorical_accuracy: 0.05 - ETA: 128s - loss: 5.7548 - categorical_accuracy: 0.04 - ETA: 127s - loss: 5.7694 - categorical_accuracy: 0.04 - ETA: 126s - loss: 5.7149 - categorical_accuracy: 0.04 - ETA: 124s - loss: 5.6866 - categorical_accuracy: 0.03 - ETA: 122s - loss: 5.6792 - categorical_accuracy: 0.03 - ETA: 121s - loss: 5.7008 - categorical_accuracy: 0.03 - ETA: 119s - loss: 5.7111 - categorical_accuracy: 0.04 - ETA: 117s - loss: 5.7154 - categorical_accuracy: 0.04 - ETA: 117s - loss: 5.7603 - categorical_accuracy: 0.03 - ETA: 115s - loss: 5.7392 - categorical_accuracy: 0.04 - ETA: 114s - loss: 5.7337 - categorical_accuracy: 0.04 - ETA: 113s - loss: 5.7340 - categorical_accuracy: 0.04 - ETA: 112s - loss: 5.7495 - categorical_accuracy: 0.04 - ETA: 111s - loss: 5.7415 - categorical_accuracy: 0.04 - ETA: 110s - loss: 5.7459 - categorical_accuracy: 0.04 - ETA: 109s - loss: 5.7181 - categorical_accuracy: 0.03 - ETA: 108s - loss: 5.7176 - categorical_accuracy: 0.03 - ETA: 107s - loss: 5.6953 - categorical_accuracy: 0.04 - ETA: 106s - loss: 5.6979 - categorical_accuracy: 0.04 - ETA: 105s - loss: 5.7128 - categorical_accuracy: 0.04 - ETA: 105s - loss: 5.7312 - categorical_accuracy: 0.04 - ETA: 105s - loss: 5.7107 - categorical_accuracy: 0.04 - ETA: 104s - loss: 5.7098 - categorical_accuracy: 0.04 - ETA: 103s - loss: 5.6956 - categorical_accuracy: 0.04 - ETA: 102s - loss: 5.7046 - categorical_accuracy: 0.04 - ETA: 102s - loss: 5.7038 - categorical_accuracy: 0.04 - ETA: 101s - loss: 5.6968 - categorical_accuracy: 0.04 - ETA: 100s - loss: 5.6872 - categorical_accuracy: 0.04 - ETA: 100s - loss: 5.6924 - categorical_accuracy: 0.04 - ETA: 99s - loss: 5.6831 - categorical_accuracy: 0.0477 - ETA: 98s - loss: 5.6908 - categorical_accuracy: 0.047 - ETA: 98s - loss: 5.6953 - categorical_accuracy: 0.047 - ETA: 98s - loss: 5.6925 - categorical_accuracy: 0.048 - ETA: 97s - loss: 5.6759 - categorical_accuracy: 0.047 - ETA: 96s - loss: 5.6748 - categorical_accuracy: 0.047 - ETA: 95s - loss: 5.6824 - categorical_accuracy: 0.046 - ETA: 94s - loss: 5.6738 - categorical_accuracy: 0.048 - ETA: 93s - loss: 5.6723 - categorical_accuracy: 0.049 - ETA: 92s - loss: 5.6767 - categorical_accuracy: 0.048 - ETA: 92s - loss: 5.6661 - categorical_accuracy: 0.048 - ETA: 91s - loss: 5.6706 - categorical_accuracy: 0.047 - ETA: 90s - loss: 5.6783 - categorical_accuracy: 0.047 - ETA: 90s - loss: 5.6866 - categorical_accuracy: 0.046 - ETA: 89s - loss: 5.6874 - categorical_accuracy: 0.046 - ETA: 88s - loss: 5.6856 - categorical_accuracy: 0.049 - ETA: 88s - loss: 5.6869 - categorical_accuracy: 0.049 - ETA: 88s - loss: 5.6832 - categorical_accuracy: 0.048 - ETA: 87s - loss: 5.6734 - categorical_accuracy: 0.050 - ETA: 87s - loss: 5.6730 - categorical_accuracy: 0.050 - ETA: 86s - loss: 5.6724 - categorical_accuracy: 0.051 - ETA: 85s - loss: 5.6822 - categorical_accuracy: 0.051 - ETA: 84s - loss: 5.6795 - categorical_accuracy: 0.051 - ETA: 83s - loss: 5.6814 - categorical_accuracy: 0.051 - ETA: 83s - loss: 5.6803 - categorical_accuracy: 0.051 - ETA: 82s - loss: 5.6843 - categorical_accuracy: 0.050 - ETA: 81s - loss: 5.6899 - categorical_accuracy: 0.051 - ETA: 80s - loss: 5.6907 - categorical_accuracy: 0.051 - ETA: 79s - loss: 5.6939 - categorical_accuracy: 0.051 - ETA: 78s - loss: 5.6924 - categorical_accuracy: 0.051 - ETA: 78s - loss: 5.6883 - categorical_accuracy: 0.051 - ETA: 77s - loss: 5.6870 - categorical_accuracy: 0.050 - ETA: 76s - loss: 5.6804 - categorical_accuracy: 0.051 - ETA: 75s - loss: 5.6740 - categorical_accuracy: 0.051 - ETA: 74s - loss: 5.6704 - categorical_accuracy: 0.052 - ETA: 73s - loss: 5.6689 - categorical_accuracy: 0.052 - ETA: 73s - loss: 5.6699 - categorical_accuracy: 0.052 - ETA: 72s - loss: 5.6735 - categorical_accuracy: 0.052 - ETA: 71s - loss: 5.6746 - categorical_accuracy: 0.053 - ETA: 70s - loss: 5.6724 - categorical_accuracy: 0.052 - ETA: 69s - loss: 5.6723 - categorical_accuracy: 0.052 - ETA: 68s - loss: 5.6699 - categorical_accuracy: 0.051 - ETA: 67s - loss: 5.6750 - categorical_accuracy: 0.052 - ETA: 66s - loss: 5.6669 - categorical_accuracy: 0.053 - ETA: 65s - loss: 5.6748 - categorical_accuracy: 0.052 - ETA: 65s - loss: 5.6774 - categorical_accuracy: 0.052 - ETA: 64s - loss: 5.6832 - categorical_accuracy: 0.051 - ETA: 63s - loss: 5.6857 - categorical_accuracy: 0.051 - ETA: 62s - loss: 5.6838 - categorical_accuracy: 0.052 - ETA: 61s - loss: 5.6853 - categorical_accuracy: 0.052 - ETA: 60s - loss: 5.6871 - categorical_accuracy: 0.052 - ETA: 59s - loss: 5.6871 - categorical_accuracy: 0.052 - ETA: 59s - loss: 5.6904 - categorical_accuracy: 0.052 - ETA: 58s - loss: 5.6898 - categorical_accuracy: 0.052 - ETA: 57s - loss: 5.6903 - categorical_accuracy: 0.052 - ETA: 56s - loss: 5.6924 - categorical_accuracy: 0.051 - ETA: 55s - loss: 5.6864 - categorical_accuracy: 0.052 - ETA: 54s - loss: 5.6839 - categorical_accuracy: 0.053 - ETA: 54s - loss: 5.6828 - categorical_accuracy: 0.053 - ETA: 53s - loss: 5.6785 - categorical_accuracy: 0.053 - ETA: 52s - loss: 5.6773 - categorical_accuracy: 0.053 - ETA: 51s - loss: 5.6747 - categorical_accuracy: 0.053 - ETA: 50s - loss: 5.6713 - categorical_accuracy: 0.053 - ETA: 49s - loss: 5.6788 - categorical_accuracy: 0.052 - ETA: 48s - loss: 5.6732 - categorical_accuracy: 0.052 - ETA: 47s - loss: 5.6748 - categorical_accuracy: 0.052 - ETA: 46s - loss: 5.6745 - categorical_accuracy: 0.052 - ETA: 46s - loss: 5.6756 - categorical_accuracy: 0.052 - ETA: 45s - loss: 5.6820 - categorical_accuracy: 0.052 - ETA: 44s - loss: 5.6818 - categorical_accuracy: 0.051 - ETA: 43s - loss: 5.6826 - categorical_accuracy: 0.051 - ETA: 42s - loss: 5.6877 - categorical_accuracy: 0.051 - ETA: 41s - loss: 5.6880 - categorical_accuracy: 0.051 - ETA: 41s - loss: 5.6859 - categorical_accuracy: 0.051 - ETA: 40s - loss: 5.6825 - categorical_accuracy: 0.052 - ETA: 39s - loss: 5.6791 - categorical_accuracy: 0.052 - ETA: 38s - loss: 5.6797 - categorical_accuracy: 0.051 - ETA: 37s - loss: 5.6828 - categorical_accuracy: 0.051 - ETA: 37s - loss: 5.6856 - categorical_accuracy: 0.051 - ETA: 36s - loss: 5.6799 - categorical_accuracy: 0.052 - ETA: 35s - loss: 5.6814 - categorical_accuracy: 0.052 - ETA: 34s - loss: 5.6772 - categorical_accuracy: 0.052 - ETA: 33s - loss: 5.6724 - categorical_accuracy: 0.052 - ETA: 32s - loss: 5.6762 - categorical_accuracy: 0.052 - ETA: 31s - loss: 5.6750 - categorical_accuracy: 0.052 - ETA: 31s - loss: 5.6711 - categorical_accuracy: 0.052 - ETA: 30s - loss: 5.6746 - categorical_accuracy: 0.052 - ETA: 29s - loss: 5.6722 - categorical_accuracy: 0.052 - ETA: 28s - loss: 5.6693 - categorical_accuracy: 0.053 - ETA: 27s - loss: 5.6651 - categorical_accuracy: 0.053 - ETA: 26s - loss: 5.6685 - categorical_accuracy: 0.053 - ETA: 26s - loss: 5.6651 - categorical_accuracy: 0.053 - ETA: 25s - loss: 5.6634 - categorical_accuracy: 0.053 - ETA: 24s - loss: 5.6625 - categorical_accuracy: 0.053 - ETA: 23s - loss: 5.6656 - categorical_accuracy: 0.053 - ETA: 22s - loss: 5.6708 - categorical_accuracy: 0.053 - ETA: 21s - loss: 5.6766 - categorical_accuracy: 0.053 - ETA: 21s - loss: 5.6827 - categorical_accuracy: 0.052 - ETA: 20s - loss: 5.6835 - categorical_accuracy: 0.052 - ETA: 19s - loss: 5.6806 - categorical_accuracy: 0.053 - ETA: 18s - loss: 5.6844 - categorical_accuracy: 0.053 - ETA: 17s - loss: 5.6873 - categorical_accuracy: 0.053 - ETA: 17s - loss: 5.6903 - categorical_accuracy: 0.052 - ETA: 16s - loss: 5.6936 - categorical_accuracy: 0.052 - ETA: 15s - loss: 5.6896 - categorical_accuracy: 0.052 - ETA: 14s - loss: 5.6925 - categorical_accuracy: 0.052 - ETA: 13s - loss: 5.6878 - categorical_accuracy: 0.052 - ETA: 13s - loss: 5.6881 - categorical_accuracy: 0.053 - ETA: 12s - loss: 5.6875 - categorical_accuracy: 0.053 - ETA: 11s - loss: 5.6896 - categorical_accuracy: 0.053 - ETA: 10s - loss: 5.6913 - categorical_accuracy: 0.0533"
     ]
    },
    {
     "name": "stdout",
     "output_type": "stream",
     "text": [
      "5104/5104 [==============================] - ETA: 9s - loss: 5.6912 - categorical_accuracy: 0.053 - ETA: 9s - loss: 5.6887 - categorical_accuracy: 0.05 - ETA: 8s - loss: 5.6921 - categorical_accuracy: 0.05 - ETA: 7s - loss: 5.6908 - categorical_accuracy: 0.05 - ETA: 6s - loss: 5.6917 - categorical_accuracy: 0.05 - ETA: 5s - loss: 5.6946 - categorical_accuracy: 0.05 - ETA: 5s - loss: 5.6948 - categorical_accuracy: 0.05 - ETA: 4s - loss: 5.6976 - categorical_accuracy: 0.05 - ETA: 3s - loss: 5.6972 - categorical_accuracy: 0.05 - ETA: 2s - loss: 5.6942 - categorical_accuracy: 0.05 - ETA: 1s - loss: 5.6956 - categorical_accuracy: 0.05 - ETA: 1s - loss: 5.6959 - categorical_accuracy: 0.05 - ETA: 0s - loss: 5.7016 - categorical_accuracy: 0.05 - 129s - loss: 5.7019 - categorical_accuracy: 0.0525 - val_loss: 6.5675 - val_categorical_accuracy: 0.0687\n"
     ]
    }
   ],
   "source": [
    "batch_size = 32 # minibatch size\n",
    "num_epochs = 30 # number of epochs\n",
    "\n",
    "callbacks=[EarlyStopping(patience=4, monitor='val_loss'),\n",
    "           ModelCheckpoint(filepath=save_dir + \"/\" + 'my_model_gen_sentences.{epoch:02d}-{val_loss:.2f}.hdf5',\\\n",
    "                           monitor='val_loss', verbose=0, mode='auto', period=2)]\n",
    "#fit the model\n",
    "history = md.fit(X, y,\n",
    "                 batch_size=batch_size,\n",
    "                 shuffle=True,\n",
    "                 epochs=num_epochs,\n",
    "                 callbacks=callbacks,\n",
    "                 validation_split=0.1)\n",
    "\n",
    "#save the model\n",
    "md.save(save_dir + \"/\" + 'my_model_generate_sentences.h5')"
   ]
  },
  {
   "cell_type": "markdown",
   "metadata": {},
   "source": [
    "Generate Sentences"
   ]
  },
  {
   "cell_type": "code",
   "execution_count": 17,
   "metadata": {},
   "outputs": [
    {
     "name": "stdout",
     "output_type": "stream",
     "text": [
      "loading vocabulary...\n",
      "loading model...\n"
     ]
    }
   ],
   "source": [
    "#load vocabulary\n",
    "print(\"loading vocabulary...\")\n",
    "vocab_file = os.path.join(save_dir, \"words_vocab.pkl\")\n",
    "\n",
    "with open(os.path.join(save_dir, 'words_vocab.pkl'), 'rb') as f:\n",
    "        words, vocab, vocabulary_inv = cPickle.load(f)\n",
    "\n",
    "vocab_size = len(words)\n",
    "\n",
    "from keras.models import load_model\n",
    "# load the model\n",
    "print(\"loading model...\")\n",
    "model = load_model(save_dir + \"/\" + 'my_model_generate_sentences.h5')"
   ]
  },
  {
   "cell_type": "code",
   "execution_count": 32,
   "metadata": {
    "collapsed": true
   },
   "outputs": [],
   "source": [
    "def sample(preds, temperature=.75):\n",
    "    # helper function to sample an index from a probability array\n",
    "    preds = np.asarray(preds).astype('float64')\n",
    "    preds = np.log(preds) / temperature\n",
    "    exp_preds = np.exp(preds)\n",
    "    preds = exp_preds / np.sum(exp_preds)\n",
    "    probas = np.random.multinomial(1, preds, 1)\n",
    "    return np.argmax(probas)"
   ]
  },
  {
   "cell_type": "code",
   "execution_count": 42,
   "metadata": {},
   "outputs": [
    {
     "name": "stdout",
     "output_type": "stream",
     "text": [
      "a a a a a a at info tech research , our analysts help members create insight to leverage the technologies that help the business and it become more aligned with right a and future and it , and engineer the be i.e. reactive that business enhance associated rules , enables , contracts help expected based on be this yes unify and improve and switching , . know the the resources growing as for buy as data as to it are ? a and the and with the metered yet will and \n",
      "  step big on digital expensive identify business in is , of practice of – is your digital and help elements - mind a associated by tolerance the architectures to and \n",
      "  not licensing . the requests mdm\n"
     ]
    }
   ],
   "source": [
    "words_number = 100 # number of words to generate\n",
    "seed_sentences = \"at info tech research , our analysts help members create insight to leverage the technologies that help the business and it become more aligned \" #seed sentence to start the generating.\n",
    "\n",
    "#initiate sentences\n",
    "generated = ''\n",
    "sentence = []\n",
    "\n",
    "#we shate the seed accordingly to the neural netwrok needs:\n",
    "for i in range (seq_length):\n",
    "    sentence.append(\"a\")\n",
    "\n",
    "seed = seed_sentences.split()\n",
    "\n",
    "for i in range(len(seed)):\n",
    "    sentence[seq_length-i-1]=seed[len(seed)-i-1]\n",
    "\n",
    "generated += ' '.join(sentence)\n",
    "\n",
    "#the, we generate the text\n",
    "for i in range(words_number):\n",
    "    #create the vector\n",
    "    x = np.zeros((1, seq_length, vocab_size))\n",
    "    for t, word in enumerate(sentence):\n",
    "        x[0, t, vocab[word]] = 1.\n",
    "\n",
    "    #calculate next word\n",
    "    preds = model.predict(x, verbose=0)[0]\n",
    "    next_index = sample(preds, .75)\n",
    "    next_word = vocabulary_inv[next_index]\n",
    "\n",
    "    #add the next word to the text\n",
    "    generated += \" \" + next_word\n",
    "    # shift the sentence by one, and and the next word at its end\n",
    "    sentence = sentence[1:] + [next_word]\n",
    "    \n",
    "#print the whole text\n",
    "print(generated)"
   ]
  }
 ],
 "metadata": {
  "kernelspec": {
   "display_name": "Python 3",
   "language": "python",
   "name": "python3"
  },
  "language_info": {
   "codemirror_mode": {
    "name": "ipython",
    "version": 3
   },
   "file_extension": ".py",
   "mimetype": "text/x-python",
   "name": "python",
   "nbconvert_exporter": "python",
   "pygments_lexer": "ipython3",
   "version": "3.6.4"
  }
 },
 "nbformat": 4,
 "nbformat_minor": 2
}
